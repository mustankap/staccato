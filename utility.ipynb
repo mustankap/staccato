{
 "cells": [
  {
   "cell_type": "code",
   "execution_count": 2,
   "metadata": {},
   "outputs": [],
   "source": [
    "#Import All Important Libraries\n",
    "# import librosa\n",
    "# from pydub import AudioSegment\n",
    "import subprocess\n",
    "# import soundfile\n",
    "import os, glob#, pickle\n",
    "# import numpy as np\n",
    "# import matplotlib.pyplot as plt\n",
    "# from sklearn.model_selection import train_test_split\n",
    "# from sklearn.neural_network import MLPClassifier\n",
    "# from sklearn.metrics import accuracy_score, confusion_matrix"
   ]
  },
  {
   "cell_type": "code",
   "execution_count": null,
   "metadata": {},
   "outputs": [],
   "source": [
    "# Convert to WAV\n",
    "target = \"rv1\"\n",
    "for folder in glob.glob(f'./datasets/{target}/*'):\n",
    "    print(folder)\n",
    "    for file in glob.glob(folder + '/*.wav'):\n",
    "            # print(file)\n",
    "        file_name = os.path.basename(file)\n",
    "        # opfile = \"./test/test_anger_4.wav\"\n",
    "        # if file[-3:] != \"wav\":\n",
    "        cmd = f\"ffmpeg -i {file_name} -acodec pcm_s16le -ac 1 -ar 48000 {file_name} -y\" # convert to wav\n",
    "        cmd = f\"ffmpeg -i {file_name} -ac 1 {file_name} -y\" # convert wav to monophonic\n",
    "        process = subprocess.Popen(cmd.split(), stdout=subprocess.PIPE)\n",
    "        output, error = process.communicate()\n",
    "        # else:\n",
    "        #     file_name = file\n",
    "        # file_name = os.path.basename(file_name)"
   ]
  },
  {
   "cell_type": "code",
   "execution_count": 3,
   "metadata": {},
   "outputs": [
    {
     "name": "stdout",
     "output_type": "stream",
     "text": [
      "./datasets/rv1/Actor_15\n",
      "./datasets/rv1/Actor_18\n",
      "./datasets/rv1/Actor_09\n",
      "./datasets/rv1/Actor_02\n",
      "./datasets/rv1/Actor_23\n",
      "./datasets/rv1/Actor_08\n",
      "./datasets/rv1/Actor_16\n",
      "./datasets/rv1/Actor_04\n",
      "./datasets/rv1/Actor_22\n",
      "./datasets/rv1/Actor_12\n",
      "./datasets/rv1/Actor_21\n",
      "./datasets/rv1/Actor_03\n",
      "./datasets/rv1/Actor_17\n",
      "./datasets/rv1/Actor_24\n",
      "./datasets/rv1/Actor_06\n",
      "./datasets/rv1/Actor_11\n",
      "./datasets/rv1/Actor_20\n",
      "./datasets/rv1/Actor_13\n",
      "./datasets/rv1/Actor_14\n",
      "./datasets/rv1/Actor_10\n",
      "./datasets/rv1/Actor_01\n",
      "./datasets/rv1/Actor_19\n",
      "./datasets/rv1/Actor_07\n",
      "./datasets/rv1/Actor_05\n"
     ]
    }
   ],
   "source": [
    "# Copy files\n",
    "dest = \"./datasets/ravdess/\"\n",
    "for folder in glob.glob(f'./datasets/{source}/*'):\n",
    "    print(folder)\n",
    "    for file in glob.glob(folder + '/*.wav'):\n",
    "        file_name = os.path.basename(file)\n",
    "        cmd = f\"cp -lr {file} {dest}\" # convert wav to monophonic\n",
    "        process = subprocess.Popen(cmd.split(), stdout=subprocess.PIPE)\n",
    "        output, error = process.communicate()\n",
    "        # else:\n",
    "        #     file_name = file\n",
    "        # file_name = os.path.basename(file_name)"
   ]
  }
 ],
 "metadata": {
  "interpreter": {
   "hash": "1f08c95e1dc81e82bda07ffde162a7d0c188a9c97ea4a66445a4d02b581bf4ef"
  },
  "kernelspec": {
   "display_name": "Python 3.9.7 ('base')",
   "language": "python",
   "name": "python3"
  },
  "language_info": {
   "codemirror_mode": {
    "name": "ipython",
    "version": 3
   },
   "file_extension": ".py",
   "mimetype": "text/x-python",
   "name": "python",
   "nbconvert_exporter": "python",
   "pygments_lexer": "ipython3",
   "version": "3.9.7"
  },
  "orig_nbformat": 4
 },
 "nbformat": 4,
 "nbformat_minor": 2
}
