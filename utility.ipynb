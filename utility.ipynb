{
 "cells": [
  {
   "cell_type": "code",
   "execution_count": null,
   "metadata": {},
   "outputs": [],
   "source": [
    "#Import All Important Libraries\n",
    "import librosa\n",
    "from pydub import AudioSegment\n",
    "import subprocess\n",
    "import soundfile\n",
    "import os, glob, pickle\n",
    "import numpy as np\n",
    "import matplotlib.pyplot as plt\n",
    "from sklearn.model_selection import train_test_split\n",
    "from sklearn.neural_network import MLPClassifier\n",
    "from sklearn.metrics import accuracy_score, confusion_matrix"
   ]
  },
  {
   "cell_type": "code",
   "execution_count": null,
   "metadata": {},
   "outputs": [],
   "source": [
    "for folder in glob.glob('./Datasets1/Actor_*'):\n",
    "    print(folder)\n",
    "    for file in glob.glob(folder + '/*.wav'):\n",
    "            # print(file)\n",
    "        file_name = os.path.basename(file)\n",
    "        # opfile = \"./test/test_anger_4.wav\"\n",
    "        # if file[-3:] != \"wav\":\n",
    "        cmd = f\"ffmpeg -i {file_name} -acodec pcm_s16le -ac 1 -ar 48000 {file_name} -y\" # convert to wav\n",
    "        cmd = f\"ffmpeg -i {file_name} -ac 1 {file_name} -y\" # convert wav to monophonic\n",
    "        process = subprocess.Popen(cmd.split(), stdout=subprocess.PIPE)\n",
    "        output, error = process.communicate()\n",
    "        # else:\n",
    "        #     file_name = file\n",
    "        file_name = os.path.basename(file_name)"
   ]
  }
 ],
 "metadata": {
  "language_info": {
   "name": "python"
  },
  "orig_nbformat": 4
 },
 "nbformat": 4,
 "nbformat_minor": 2
}
