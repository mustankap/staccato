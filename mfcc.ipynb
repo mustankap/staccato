{
 "cells": [
  {
   "cell_type": "code",
   "execution_count": null,
   "id": "major-retailer",
   "metadata": {},
   "outputs": [
    {
     "ename": "ModuleNotFoundError",
     "evalue": "No module named 'matplotlib'",
     "output_type": "error",
     "traceback": [
      "\u001b[0;31m---------------------------------------------------------------------------\u001b[0m",
      "\u001b[0;31mModuleNotFoundError\u001b[0m                       Traceback (most recent call last)",
      "\u001b[0;32m/tmp/ipykernel_9075/2733360799.py\u001b[0m in \u001b[0;36m<module>\u001b[0;34m\u001b[0m\n\u001b[1;32m      6\u001b[0m \u001b[0;32mfrom\u001b[0m \u001b[0mscipy\u001b[0m\u001b[0;34m.\u001b[0m\u001b[0msignal\u001b[0m \u001b[0;32mimport\u001b[0m \u001b[0mget_window\u001b[0m\u001b[0;34m\u001b[0m\u001b[0;34m\u001b[0m\u001b[0m\n\u001b[1;32m      7\u001b[0m \u001b[0;32mimport\u001b[0m \u001b[0mIPython\u001b[0m\u001b[0;34m.\u001b[0m\u001b[0mdisplay\u001b[0m \u001b[0;32mas\u001b[0m \u001b[0mipd\u001b[0m\u001b[0;34m\u001b[0m\u001b[0;34m\u001b[0m\u001b[0m\n\u001b[0;32m----> 8\u001b[0;31m \u001b[0;32mimport\u001b[0m \u001b[0mmatplotlib\u001b[0m\u001b[0;34m.\u001b[0m\u001b[0mpyplot\u001b[0m \u001b[0;32mas\u001b[0m \u001b[0mplt\u001b[0m\u001b[0;34m\u001b[0m\u001b[0;34m\u001b[0m\u001b[0m\n\u001b[0m\u001b[1;32m      9\u001b[0m \u001b[0;34m\u001b[0m\u001b[0m\n",
      "\u001b[0;31mModuleNotFoundError\u001b[0m: No module named 'matplotlib'"
     ]
    }
   ],
   "source": [
    "import os\n",
    "import numpy as np\n",
    "import scipy\n",
    "from scipy.io import wavfile\n",
    "import scipy.fftpack as fft\n",
    "from scipy.signal import get_window\n",
    "import IPython.display as ipd\n",
    "import matplotlib.pyplot as plt\n",
    "\n"
   ]
  },
  {
   "cell_type": "code",
   "execution_count": null,
   "id": "located-poverty",
   "metadata": {},
   "outputs": [],
   "source": [
    "TRAIN_PATH = './Datasets/Actor_01/'\n",
    "ipd.Audio(TRAIN_PATH + \"03-02-05-02-02-02-01.wav\")"
   ]
  },
  {
   "cell_type": "code",
   "execution_count": null,
   "id": "assumed-contributor",
   "metadata": {},
   "outputs": [],
   "source": [
    "sample_rate, audio = wavfile.read(TRAIN_PATH + \"03-02-05-02-02-02-01.wav\")\n",
    "print(\"Sample rate: {0}Hz\".format(sample_rate))\n",
    "print(\"Audio duration: {0}s\".format(len(audio) / sample_rate))"
   ]
  },
  {
   "cell_type": "code",
   "execution_count": null,
   "id": "growing-talent",
   "metadata": {},
   "outputs": [],
   "source": [
    "def normalize_audio(audio):\n",
    "    audio = audio / np.max(np.abs(audio))\n",
    "    return audio"
   ]
  },
  {
   "cell_type": "code",
   "execution_count": null,
   "id": "transparent-momentum",
   "metadata": {
    "scrolled": true
   },
   "outputs": [],
   "source": [
    "audio = normalize_audio(audio)\n",
    "plt.figure(figsize=(15,4))\n",
    "plt.plot(np.linspace(0, len(audio) / sample_rate, num=len(audio)), audio)\n",
    "plt.grid(True)"
   ]
  },
  {
   "cell_type": "code",
   "execution_count": null,
   "id": "chicken-annotation",
   "metadata": {},
   "outputs": [],
   "source": [
    "def frame_audio(audio, FFT_size=2048, hop_size=10, sample_rate=44100):\n",
    "    # hop_size in ms\n",
    "    \n",
    "    audio = np.pad(audio, int(FFT_size / 2), mode='reflect')\n",
    "    frame_len = np.round(sample_rate * hop_size / 1000).astype(int)\n",
    "    frame_num = int((len(audio) - FFT_size) / frame_len) + 1\n",
    "    frames = np.zeros((frame_num,FFT_size))\n",
    "    \n",
    "    for n in range(frame_num):\n",
    "        frames[n] = audio[n*frame_len:n*frame_len+FFT_size]\n",
    "    \n",
    "    return frames"
   ]
  },
  {
   "cell_type": "code",
   "execution_count": null,
   "id": "approximate-cannon",
   "metadata": {},
   "outputs": [],
   "source": [
    "hop_size = 15 #ms\n",
    "FFT_size = 2048\n",
    "\n",
    "audio_framed = frame_audio(audio, FFT_size=FFT_size, hop_size=hop_size, sample_rate=sample_rate)\n",
    "print(\"Framed audio shape: {0}\".format(audio_framed.shape))"
   ]
  },
  {
   "cell_type": "code",
   "execution_count": null,
   "id": "stylish-privacy",
   "metadata": {},
   "outputs": [],
   "source": [
    "print(\"First frame:\")\n",
    "audio_framed[1]"
   ]
  },
  {
   "cell_type": "code",
   "execution_count": null,
   "id": "engaged-marble",
   "metadata": {},
   "outputs": [],
   "source": [
    "print(\"Last frame:\")\n",
    "audio_framed[-1]"
   ]
  },
  {
   "cell_type": "code",
   "execution_count": null,
   "id": "diverse-oakland",
   "metadata": {},
   "outputs": [],
   "source": [
    "window = get_window(\"hann\", FFT_size, fftbins=True)\n",
    "plt.figure(figsize=(15,4))\n",
    "plt.plot(window)\n",
    "plt.grid(True)"
   ]
  },
  {
   "cell_type": "code",
   "execution_count": null,
   "id": "through-thong",
   "metadata": {},
   "outputs": [],
   "source": [
    "audio_win = audio_framed * window\n",
    "\n",
    "ind = 69\n",
    "plt.figure(figsize=(15,6))\n",
    "plt.subplot(2, 1, 1)\n",
    "plt.plot(audio_framed[ind])\n",
    "plt.title('Original Frame')\n",
    "plt.grid(True)\n",
    "plt.subplot(2, 1, 2)\n",
    "plt.plot(audio_win[ind])\n",
    "plt.title('Frame After Windowing')\n",
    "plt.grid(True)"
   ]
  },
  {
   "cell_type": "code",
   "execution_count": null,
   "id": "underlying-vault",
   "metadata": {},
   "outputs": [],
   "source": [
    "audio_winT = np.transpose(audio_win)\n",
    "\n",
    "audio_fft = np.empty((int(1 + FFT_size // 2), audio_winT.shape[1]), dtype=np.complex64, order='F')\n",
    "\n",
    "for n in range(audio_fft.shape[1]):\n",
    "    audio_fft[:, n] = fft.fft(audio_winT[:, n], axis=0)[:audio_fft.shape[0]]\n",
    "\n",
    "audio_fft = np.transpose(audio_fft)"
   ]
  },
  {
   "cell_type": "code",
   "execution_count": null,
   "id": "mental-gibraltar",
   "metadata": {},
   "outputs": [],
   "source": [
    "audio_power = np.square(np.abs(audio_fft))\n",
    "print(audio_power.shape)"
   ]
  },
  {
   "cell_type": "code",
   "execution_count": null,
   "id": "saved-darkness",
   "metadata": {},
   "outputs": [],
   "source": [
    "freq_min = 0\n",
    "freq_high = sample_rate / 2\n",
    "mel_filter_num = 10\n",
    "\n",
    "print(\"Minimum frequency: {0}\".format(freq_min))\n",
    "print(\"Maximum frequency: {0}\".format(freq_high))"
   ]
  },
  {
   "cell_type": "code",
   "execution_count": null,
   "id": "native-array",
   "metadata": {},
   "outputs": [],
   "source": [
    "def freq_to_mel(freq):\n",
    "    return 2595.0 * np.log10(1.0 + freq / 700.0)\n",
    "\n",
    "def met_to_freq(mels):\n",
    "    return 700.0 * (10.0**(mels / 2595.0) - 1.0)"
   ]
  },
  {
   "cell_type": "code",
   "execution_count": null,
   "id": "potential-leader",
   "metadata": {},
   "outputs": [],
   "source": [
    "def get_filter_points(fmin, fmax, mel_filter_num, FFT_size, sample_rate=44100):\n",
    "    fmin_mel = freq_to_mel(fmin)\n",
    "    fmax_mel = freq_to_mel(fmax)\n",
    "    \n",
    "    print(\"MEL min: {0}\".format(fmin_mel))\n",
    "    print(\"MEL max: {0}\".format(fmax_mel))\n",
    "    \n",
    "    mels = np.linspace(fmin_mel, fmax_mel, num=mel_filter_num+2)\n",
    "    freqs = met_to_freq(mels)\n",
    "    \n",
    "    return np.floor((FFT_size + 1) / sample_rate * freqs).astype(int), freqs"
   ]
  },
  {
   "cell_type": "code",
   "execution_count": null,
   "id": "turned-connection",
   "metadata": {},
   "outputs": [],
   "source": [
    "filter_points, mel_freqs = get_filter_points(freq_min, freq_high, mel_filter_num, FFT_size, sample_rate=44100)\n",
    "filter_points"
   ]
  },
  {
   "cell_type": "code",
   "execution_count": null,
   "id": "pointed-plenty",
   "metadata": {},
   "outputs": [],
   "source": [
    "def get_filters(filter_points, FFT_size):\n",
    "    filters = np.zeros((len(filter_points)-2,int(FFT_size/2+1)))\n",
    "    \n",
    "    for n in range(len(filter_points)-3):\n",
    "        filters[n, filter_points[n] : filter_points[n + 1]] = np.linspace(0, 1, filter_points[n + 1] - filter_points[n])\n",
    "        filters[n, filter_points[n + 1] : filter_points[n + 2]] = np.linspace(1, 0, filter_points[n + 2] - filter_points[n + 1])\n",
    "    \n",
    "    return filters"
   ]
  },
  {
   "cell_type": "code",
   "execution_count": null,
   "id": "supposed-shaft",
   "metadata": {},
   "outputs": [],
   "source": [
    "filters = get_filters(filter_points, FFT_size)\n",
    "print(filters)\n",
    "plt.figure(figsize=(15,4))\n",
    "for n in range(filters.shape[0]):\n",
    "    plt.plot(filters[n])"
   ]
  },
  {
   "cell_type": "code",
   "execution_count": null,
   "id": "experimental-subdivision",
   "metadata": {},
   "outputs": [],
   "source": [
    "# taken from the librosa library\n",
    "enorm = 2.0 / (mel_freqs[2:mel_filter_num+2] - mel_freqs[:mel_filter_num])\n",
    "filters *= enorm[:, np.newaxis]"
   ]
  },
  {
   "cell_type": "code",
   "execution_count": null,
   "id": "allied-arthritis",
   "metadata": {},
   "outputs": [],
   "source": [
    "plt.figure(figsize=(15,4))\n",
    "for n in range(filters.shape[0]):\n",
    "    plt.plot(filters[n])"
   ]
  },
  {
   "cell_type": "code",
   "execution_count": null,
   "id": "younger-vision",
   "metadata": {},
   "outputs": [],
   "source": [
    "audio_filtered = np.dot(filters, np.transpose(audio_power))\n",
    "audio_log = 10.0 * np.log10(audio_filtered)\n",
    "audio_log.shape"
   ]
  },
  {
   "cell_type": "code",
   "execution_count": null,
   "id": "outstanding-course",
   "metadata": {},
   "outputs": [],
   "source": [
    "def dct(dct_filter_num, filter_len):\n",
    "    basis = np.empty((dct_filter_num,filter_len))\n",
    "    basis[0, :] = 1.0 / np.sqrt(filter_len)\n",
    "    \n",
    "    samples = np.arange(1, 2 * filter_len, 2) * np.pi / (2.0 * filter_len)\n",
    "\n",
    "    for i in range(1, dct_filter_num):\n",
    "        basis[i, :] = np.cos(i * samples) * np.sqrt(2.0 / filter_len)\n",
    "        \n",
    "    return basis"
   ]
  },
  {
   "cell_type": "code",
   "execution_count": null,
   "id": "coordinated-petersburg",
   "metadata": {},
   "outputs": [],
   "source": [
    "dct_filter_num = 40\n",
    "\n",
    "dct_filters = dct(dct_filter_num, mel_filter_num)\n",
    "\n",
    "cepstral_coefficents = np.dot(dct_filters, audio_log)\n",
    "cepstral_coefficents.shape"
   ]
  },
  {
   "cell_type": "code",
   "execution_count": null,
   "id": "later-brunei",
   "metadata": {},
   "outputs": [],
   "source": [
    "cepstral_coefficents[:, 0]"
   ]
  },
  {
   "cell_type": "code",
   "execution_count": null,
   "id": "logical-monitoring",
   "metadata": {},
   "outputs": [],
   "source": [
    "plt.figure(figsize=(15,5))\n",
    "plt.plot(np.linspace(0, len(audio) / sample_rate, num=len(audio)), audio)\n",
    "plt.imshow(cepstral_coefficents, aspect='auto', origin='lower');"
   ]
  },
  {
   "cell_type": "code",
   "execution_count": null,
   "id": "plastic-national",
   "metadata": {},
   "outputs": [],
   "source": []
  }
 ],
 "metadata": {
  "kernelspec": {
   "display_name": "Python 3 (ipykernel)",
   "language": "python",
   "name": "python3"
  },
  "language_info": {
   "codemirror_mode": {
    "name": "ipython",
    "version": 3
   },
   "file_extension": ".py",
   "mimetype": "text/x-python",
   "name": "python",
   "nbconvert_exporter": "python",
   "pygments_lexer": "ipython3",
   "version": "3.9.7"
  }
 },
 "nbformat": 4,
 "nbformat_minor": 5
}
