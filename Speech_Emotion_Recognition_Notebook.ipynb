{
  "cells": [
    {
      "cell_type": "code",
      "execution_count": 77,
      "metadata": {
        "colab": {},
        "colab_type": "code",
        "id": "kZTfgUu51RCX"
      },
      "outputs": [],
      "source": [
        "#Import All Important Libraries\n",
        "import librosa\n",
        "# from pydub import AudioSegment\n",
        "import subprocess\n",
        "import soundfile\n",
        "import os, glob, pickle\n",
        "import numpy as np\n",
        "import matplotlib.pyplot as plt\n",
        "from sklearn.model_selection import train_test_split\n",
        "from sklearn.neural_network import MLPClassifier\n",
        "from sklearn.metrics import accuracy_score, confusion_matrix"
      ]
    },
    {
      "cell_type": "code",
      "execution_count": 78,
      "metadata": {
        "colab": {},
        "colab_type": "code",
        "id": "dvGpG07E_3Uo"
      },
      "outputs": [],
      "source": [
        "#function for extracting mfcc, chroma, and mel features from sound file\n",
        "def extract_feature(file_name, mfcc, chroma, mel):\n",
        "  with soundfile.SoundFile(file_name) as sound_file:\n",
        "    X = sound_file.read(dtype=\"float32\")\n",
        "    sample_rate=sound_file.samplerate\n",
        "    if chroma:\n",
        "      stft=np.abs(librosa.stft(X))\n",
        "    result=np.array([])\n",
        "    if mfcc:\n",
        "      mfccs=np.mean(librosa.feature.mfcc(y=X, sr=sample_rate, n_mfcc=40).T, axis=0)\n",
        "      result=np.hstack((result, mfccs))\n",
        "    if chroma:\n",
        "      chroma=np.mean(librosa.feature.chroma_stft(S=stft, sr=sample_rate).T,axis=0)\n",
        "      result=np.hstack((result, chroma))\n",
        "    if mel:\n",
        "      mel=np.mean(librosa.feature.melspectrogram(X, sr=sample_rate).T,axis=0)\n",
        "      result=np.hstack((result, mel))\n",
        "  return result"
      ]
    },
    {
      "cell_type": "code",
      "execution_count": 79,
      "metadata": {
        "colab": {},
        "colab_type": "code",
        "id": "p-UIAg03Xis1"
      },
      "outputs": [],
      "source": [
        "#Define the motions dictionary\n",
        "emotions = {\n",
        "    '01':'neutral',\n",
        "    '02':'calm',\n",
        "    '03':'happy',\n",
        "    '04':'sad',\n",
        "    '05':'angry',\n",
        "    '06':'fearful',\n",
        "    '07':'disgust',\n",
        "    '08':'surprised'\n",
        "}\n",
        "\n",
        "#Emotions we want to observe\n",
        "observed_emotions = ['calm', 'happy', 'fearful', 'disgust']"
      ]
    },
    {
      "cell_type": "code",
      "execution_count": 80,
      "metadata": {
        "colab": {},
        "colab_type": "code",
        "id": "154OQUcVZ4tt"
      },
      "outputs": [],
      "source": [
        "#Load the data and extract features for each sound file\n",
        "def load_data(test_size = 0.2):\n",
        "    x, y = [], []\n",
        "    print(0)\n",
        "    for folder in glob.glob('./Datasets/RAVDESS*'):\n",
        "        # print(0)\n",
        "        print(folder)\n",
        "        for file in glob.glob(folder + '/*.wav'):\n",
        "            # print(file)\n",
        "            file_name = os.path.basename(file)\n",
        "            emotion = emotions[file_name.split('-')[2]]\n",
        "            if emotion not in observed_emotions:\n",
        "                continue\n",
        "            feature = extract_feature(file, mfcc = True, chroma = True, mel = True)\n",
        "            x.append(feature)\n",
        "            y.append(emotion)\n",
        "    return train_test_split(np.array(x), y, test_size = test_size, random_state = 9)"
      ]
    },
    {
      "cell_type": "code",
      "execution_count": 81,
      "metadata": {
        "colab": {
          "base_uri": "https://localhost:8080/",
          "height": 425
        },
        "colab_type": "code",
        "id": "J2f0qX1PjBU0",
        "outputId": "ea97dc04-3154-479b-918f-51a83cbbf2f3"
      },
      "outputs": [
        {
          "name": "stdout",
          "output_type": "stream",
          "text": [
            "0\n",
            "./Datasets/RAVDESS\n"
          ]
        }
      ],
      "source": [
        "x_train,x_test,y_train,y_test=load_data(test_size=0.3)"
      ]
    },
    {
      "cell_type": "code",
      "execution_count": 82,
      "metadata": {
        "colab": {
          "base_uri": "https://localhost:8080/",
          "height": 51
        },
        "colab_type": "code",
        "id": "HpN02uwkpekV",
        "outputId": "78905251-85ce-4d73-92aa-ce7e334840e3"
      },
      "outputs": [
        {
          "name": "stdout",
          "output_type": "stream",
          "text": [
            "(386, 166)\n",
            "Features extracted: 180\n"
          ]
        }
      ],
      "source": [
        "#Shape of train and test set and Number of features extracted\n",
        "print((x_train.shape[0], x_test.shape[0]))\n",
        "print(f'Features extracted: {x_train.shape[1]}')"
      ]
    },
    {
      "cell_type": "code",
      "execution_count": 83,
      "metadata": {
        "colab": {},
        "colab_type": "code",
        "id": "ZXwY7HVDuuTv"
      },
      "outputs": [],
      "source": [
        "#Initialise Multi Layer Perceptron Classifier\n",
        "model = MLPClassifier(alpha = 0.01, batch_size = 256, epsilon = 1e-08, hidden_layer_sizes = (1000,), learning_rate = 'adaptive', max_iter = 500)"
      ]
    },
    {
      "cell_type": "code",
      "execution_count": 84,
      "metadata": {
        "colab": {
          "base_uri": "https://localhost:8080/",
          "height": 153
        },
        "colab_type": "code",
        "id": "0_LKbQ3KvJy-",
        "outputId": "429e189c-625a-4187-d6e8-d729e85783ff"
      },
      "outputs": [],
      "source": [
        "history=model.fit(x_train, y_train)"
      ]
    },
    {
      "cell_type": "code",
      "execution_count": 85,
      "metadata": {},
      "outputs": [
        {
          "data": {
            "text/plain": [
              "MLPClassifier(alpha=0.01, batch_size=256, hidden_layer_sizes=(1000,),\n",
              "              learning_rate='adaptive', max_iter=500)"
            ]
          },
          "execution_count": 85,
          "metadata": {},
          "output_type": "execute_result"
        }
      ],
      "source": [
        "history"
      ]
    },
    {
      "cell_type": "code",
      "execution_count": 86,
      "metadata": {
        "colab": {},
        "colab_type": "code",
        "id": "glTuS50TwN0I"
      },
      "outputs": [],
      "source": [
        "#Predict for the test set\n",
        "y_pred = model.predict(x_test)"
      ]
    },
    {
      "cell_type": "code",
      "execution_count": 87,
      "metadata": {
        "colab": {
          "base_uri": "https://localhost:8080/",
          "height": 34
        },
        "colab_type": "code",
        "id": "qqVnMdQmwUXG",
        "outputId": "20d90e48-b15b-47f3-ff7c-62151a3dff82"
      },
      "outputs": [
        {
          "name": "stdout",
          "output_type": "stream",
          "text": [
            "Accuracy: 95.18%\n"
          ]
        }
      ],
      "source": [
        "#Calculate Accuracy\n",
        "accuracy = accuracy_score(y_test, y_pred)\n",
        "print(\"Accuracy: {:.2f}%\".format(accuracy*100))"
      ]
    },
    {
      "cell_type": "code",
      "execution_count": 88,
      "metadata": {},
      "outputs": [
        {
          "data": {
            "image/png": "[encoded data removed]",
            "text/plain": [
              "<Figure size 432x288 with 1 Axes>"
            ]
          },
          "metadata": {
            "needs_background": "light"
          },
          "output_type": "display_data"
        }
      ],
      "source": [
        "loss_plot=model.loss_curve_\n",
        "plt.plot(loss_plot)\n",
        "plt.show()"
      ]
    },
    {
      "cell_type": "code",
      "execution_count": 89,
      "metadata": {},
      "outputs": [
        {
          "name": "stderr",
          "output_type": "stream",
          "text": [
            "ffmpeg version 4.3.2 Copyright (c) 2000-2021 the FFmpeg developers\n",
            "  built with gcc 9.4.0 (GCC)\n",
            "  configuration: --prefix=/home/conda/feedstock_root/build_artifacts/ffmpeg_1634125397875/_h_env_placehold_placehold_placehold_placehold_placehold_placehold_placehold_placehold_placehold_placehold_placehold_placehold_placehold_placehold_placehold_placehold_placehold_placehold_plac --cc=/home/conda/feedstock_root/build_artifacts/ffmpeg_1634125397875/_build_env/bin/x86_64-conda-linux-gnu-cc --disable-doc --disable-openssl --enable-avresample --enable-gnutls --enable-gpl --enable-hardcoded-tables --enable-libfreetype --enable-libopenh264 --enable-libx264 --enable-pic --enable-pthreads --enable-shared --enable-static --enable-version3 --enable-zlib --enable-libmp3lame --pkg-config=/home/conda/feedstock_root/build_artifacts/ffmpeg_1634125397875/_build_env/bin/pkg-config\n",
            "  libavutil      56. 51.100 / 56. 51.100\n",
            "  libavcodec     58. 91.100 / 58. 91.100\n",
            "  libavformat    58. 45.100 / 58. 45.100\n",
            "  libavdevice    58. 10.100 / 58. 10.100\n",
            "  libavfilter     7. 85.100 /  7. 85.100\n",
            "  libavresample   4.  0.  0 /  4.  0.  0\n",
            "  libswscale      5.  7.100 /  5.  7.100\n",
            "  libswresample   3.  7.100 /  3.  7.100\n",
            "  libpostproc    55.  7.100 / 55.  7.100\n",
            "Input #0, mp3, from './test/agk.mp3':\n",
            "  Duration: 00:00:12.80, start: 0.025057, bitrate: 128 kb/s\n",
            "    Stream #0:0: Audio: mp3, 44100 Hz, stereo, fltp, 128 kb/s\n",
            "    Metadata:\n",
            "      encoder         : LAME3.99r\n",
            "Stream mapping:\n",
            "  Stream #0:0 -> #0:0 (mp3 (mp3float) -> pcm_s16le (native))\n",
            "Press [q] to stop, [?] for help\n",
            "Output #0, wav, to './test/test_anger_4.wav':\n",
            "  Metadata:\n",
            "    ISFT            : Lavf58.45.100\n",
            "    Stream #0:0: Audio: pcm_s16le ([1][0][0][0] / 0x0001), 48000 Hz, mono, s16, 768 kb/s\n",
            "    Metadata:\n",
            "      encoder         : Lavc58.91.100 pcm_s16le\n",
            "size=    1198kB time=00:00:12.77 bitrate= 768.0kbits/s speed= 446x    \n",
            "video:0kB audio:1197kB subtitle:0kB other streams:0kB global headers:0kB muxing overhead: 0.006361%\n"
          ]
        },
        {
          "name": "stdout",
          "output_type": "stream",
          "text": [
            "['happy'] anger\n"
          ]
        }
      ],
      "source": [
        "file = './test/agk.mp3'\n",
        "emotion = \"anger\"\n",
        "opfile = \"./test/test_anger_4.wav\"\n",
        "if file[-3:] != \"wav\":\n",
        "    cmd = f\"ffmpeg -i {file} -acodec pcm_s16le -ac 1 -ar 48000 {opfile} -y\"\n",
        "    process = subprocess.Popen(cmd.split(), stdout=subprocess.PIPE)\n",
        "    output, error = process.communicate()\n",
        "else:\n",
        "    opfile = file\n",
        "file_name = os.path.basename(opfile)\n",
        "# emotion = emotions[file_name.split('-')[2]]\n",
        "x = [extract_feature(opfile, True, True, True)]\n",
        "print(model.predict(x), emotion)"
      ]
    }
  ],
  "metadata": {
    "colab": {
      "collapsed_sections": [],
      "name": "Speech Emotion Recognition Notebook.ipynb",
      "provenance": []
    },
    "kernelspec": {
      "display_name": "Python 3",
      "name": "python3"
    },
    "language_info": {
      "codemirror_mode": {
        "name": "ipython",
        "version": 3
      },
      "file_extension": ".py",
      "mimetype": "text/x-python",
      "name": "python",
      "nbconvert_exporter": "python",
      "pygments_lexer": "ipython3",
      "version": "3.9.7"
    }
  },
  "nbformat": 4,
  "nbformat_minor": 0
}
