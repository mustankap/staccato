{
  "cells": [
    {
      "cell_type": "code",
      "execution_count": 81,
      "metadata": {
        "colab": {},
        "colab_type": "code",
        "id": "kZTfgUu51RCX"
      },
      "outputs": [],
      "source": [
        "#Import All Important Libraries\n",
        "import librosa\n",
        "from pydub import AudioSegment\n",
        "import subprocess\n",
        "import soundfile\n",
        "import os, glob, pickle\n",
        "import numpy as np\n",
        "import matplotlib.pyplot as plt\n",
        "from sklearn.model_selection import train_test_split\n",
        "from sklearn.neural_network import MLPClassifier\n",
        "from pathlib import Path\n",
        "from sklearn.metrics import accuracy_score, confusion_matrix"
      ]
    },
    {
      "cell_type": "code",
      "execution_count": 37,
      "metadata": {
        "colab": {},
        "colab_type": "code",
        "id": "dvGpG07E_3Uo"
      },
      "outputs": [],
      "source": [
        "#function for extracting mfcc, chroma, and mel features from sound file\n",
        "def extract_feature(file_name, mfcc, chroma, mel):\n",
        "  with soundfile.SoundFile(file_name) as sound_file:\n",
        "    X = sound_file.read(dtype=\"float32\")\n",
        "    sample_rate=sound_file.samplerate\n",
        "    if chroma:\n",
        "      stft=np.abs(librosa.stft(X))\n",
        "    result=np.array([])\n",
        "    if mfcc:\n",
        "      mfccs=np.mean(librosa.feature.mfcc(y=X, sr=sample_rate, n_mfcc=40).T, axis=0)\n",
        "      result=np.hstack((result, mfccs))\n",
        "    if chroma:\n",
        "      chroma=np.mean(librosa.feature.chroma_stft(S=stft, sr=sample_rate).T,axis=0)\n",
        "      result=np.hstack((result, chroma))\n",
        "    if mel:\n",
        "      mel=np.mean(librosa.feature.melspectrogram(X, sr=sample_rate).T,axis=0)\n",
        "      result=np.hstack((result, mel))\n",
        "  return result"
      ]
    },
    {
      "cell_type": "code",
      "execution_count": 38,
      "metadata": {
        "colab": {},
        "colab_type": "code",
        "id": "p-UIAg03Xis1"
      },
      "outputs": [],
      "source": [
        "#Define the motions dictionary\n",
        "emotions = {\n",
        "    '01':'neutral',\n",
        "    '02':'calm',\n",
        "    '03':'happy',\n",
        "    '04':'sad',\n",
        "    '05':'angry',\n",
        "    '06':'fearful',\n",
        "    '07':'disgust',\n",
        "    '08':'surprised'\n",
        "}\n",
        "\n",
        "#Emotions we want to observe\n",
        "observed_emotions = ['calm', 'happy', 'fearful', 'disgust']"
      ]
    },
    {
      "cell_type": "code",
      "execution_count": 39,
      "metadata": {
        "colab": {},
        "colab_type": "code",
        "id": "154OQUcVZ4tt"
      },
      "outputs": [],
      "source": [
        "#Load the data and extract features for each sound file\n",
        "def load_data(test_size = 0.2):\n",
        "    x, y = [], []\n",
        "    print(0)\n",
        "    for folder in glob.glob('./Datasets/Actor_*'):\n",
        "        # print(0)\n",
        "        print(folder)\n",
        "        for file in glob.glob(folder + '/*.wav'):\n",
        "            # print(file)\n",
        "            file_name = os.path.basename(file)\n",
        "            emotion = emotions[file_name.split('-')[2]]\n",
        "            if emotion not in observed_emotions:\n",
        "                continue\n",
        "            feature = extract_feature(file, mfcc = True, chroma = True, mel = True)\n",
        "            x.append(feature)\n",
        "            y.append(emotion)\n",
        "    return train_test_split(np.array(x), y, test_size = test_size, random_state = 9)"
      ]
    },
    {
      "cell_type": "code",
      "execution_count": 40,
      "metadata": {
        "colab": {
          "base_uri": "https://localhost:8080/",
          "height": 425
        },
        "colab_type": "code",
        "id": "J2f0qX1PjBU0",
        "outputId": "ea97dc04-3154-479b-918f-51a83cbbf2f3"
      },
      "outputs": [
        {
          "name": "stdout",
          "output_type": "stream",
          "text": [
            "0\n",
            "./Datasets/Actor_15\n",
            "./Datasets/Actor_09\n",
            "./Datasets/Actor_02\n",
            "./Datasets/Actor_23\n",
            "./Datasets/Actor_08\n",
            "./Datasets/Actor_16\n",
            "./Datasets/Actor_04\n",
            "./Datasets/Actor_22\n",
            "./Datasets/Actor_12\n",
            "./Datasets/Actor_21\n",
            "./Datasets/Actor_03\n",
            "./Datasets/Actor_17\n",
            "./Datasets/Actor_24\n",
            "./Datasets/Actor_06\n",
            "./Datasets/Actor_11\n",
            "./Datasets/Actor_20\n",
            "./Datasets/Actor_13\n",
            "./Datasets/Actor_14\n",
            "./Datasets/Actor_10\n",
            "./Datasets/Actor_01\n",
            "./Datasets/Actor_19\n",
            "./Datasets/Actor_07\n",
            "./Datasets/Actor_05\n"
          ]
        }
      ],
      "source": [
        "x_train,x_test,y_train,y_test=load_data(test_size=0.3)"
      ]
    },
    {
      "cell_type": "code",
      "execution_count": 41,
      "metadata": {
        "colab": {
          "base_uri": "https://localhost:8080/",
          "height": 51
        },
        "colab_type": "code",
        "id": "HpN02uwkpekV",
        "outputId": "78905251-85ce-4d73-92aa-ce7e334840e3"
      },
      "outputs": [
        {
          "name": "stdout",
          "output_type": "stream",
          "text": [
            "(386, 166)\n",
            "Features extracted: 180\n"
          ]
        }
      ],
      "source": [
        "#Shape of train and test set and Number of features extracted\n",
        "print((x_train.shape[0], x_test.shape[0]))\n",
        "print(f'Features extracted: {x_train.shape[1]}')"
      ]
    },
    {
      "cell_type": "code",
      "execution_count": 42,
      "metadata": {
        "colab": {},
        "colab_type": "code",
        "id": "ZXwY7HVDuuTv"
      },
      "outputs": [],
      "source": [
        "#Initialise Multi Layer Perceptron Classifier\n",
        "model = MLPClassifier(alpha = 0.01, batch_size = 256, epsilon = 1e-08, hidden_layer_sizes = (1000,), learning_rate = 'adaptive', max_iter = 500)"
      ]
    },
    {
      "cell_type": "code",
      "execution_count": 43,
      "metadata": {
        "colab": {
          "base_uri": "https://localhost:8080/",
          "height": 153
        },
        "colab_type": "code",
        "id": "0_LKbQ3KvJy-",
        "outputId": "429e189c-625a-4187-d6e8-d729e85783ff"
      },
      "outputs": [],
      "source": [
        "history=model.fit(x_train, y_train)"
      ]
    },
    {
      "cell_type": "code",
      "execution_count": 44,
      "metadata": {},
      "outputs": [
        {
          "data": {
            "text/plain": [
              "MLPClassifier(alpha=0.01, batch_size=256, hidden_layer_sizes=(1000,),\n",
              "              learning_rate='adaptive', max_iter=500)"
            ]
          },
          "execution_count": 44,
          "metadata": {},
          "output_type": "execute_result"
        }
      ],
      "source": [
        "history"
      ]
    },
    {
      "cell_type": "code",
      "execution_count": 45,
      "metadata": {
        "colab": {},
        "colab_type": "code",
        "id": "glTuS50TwN0I"
      },
      "outputs": [],
      "source": [
        "#Predict for the test set\n",
        "y_pred = model.predict(x_test)"
      ]
    },
    {
      "cell_type": "code",
      "execution_count": 46,
      "metadata": {
        "colab": {
          "base_uri": "https://localhost:8080/",
          "height": 34
        },
        "colab_type": "code",
        "id": "qqVnMdQmwUXG",
        "outputId": "20d90e48-b15b-47f3-ff7c-62151a3dff82"
      },
      "outputs": [
        {
          "name": "stdout",
          "output_type": "stream",
          "text": [
            "Accuracy: 93.98%\n"
          ]
        }
      ],
      "source": [
        "#Calculate Accuracy\n",
        "accuracy = accuracy_score(y_test, y_pred)\n",
        "print(\"Accuracy: {:.2f}%\".format(accuracy*100))"
      ]
    },
    {
      "cell_type": "code",
      "execution_count": 47,
      "metadata": {},
      "outputs": [
        {
          "data": {
            "image/png": "[encoded data removed]",
            "text/plain": [
              "<Figure size 432x288 with 1 Axes>"
            ]
          },
          "metadata": {
            "needs_background": "light"
          },
          "output_type": "display_data"
        }
      ],
      "source": [
        "loss_plot=model.loss_curve_\n",
        "plt.plot(loss_plot)\n",
        "plt.show()"
      ]
    },
    {
      "cell_type": "code",
      "execution_count": 88,
      "metadata": {},
      "outputs": [
        {
          "name": "stdout",
          "output_type": "stream",
          "text": [
            "['fearful'] anger\n"
          ]
        }
      ],
      "source": [
        "file = './test/agk.mp3'\n",
        "emotion = \"anger\"\n",
        "opfile = \"./test/test_anger_4.wav\"\n",
        "p = Path(opfile)\n",
        "if file[-3:] != \"wav\":\n",
        "    if not p.is_file():\n",
        "        cmd = f\"ffmpeg -i {file} -acodec pcm_s16le -ac 1 -ar 48000 {opfile} -y\"\n",
        "        process = subprocess.Popen(cmd.split(), stdout=subprocess.PIPE)\n",
        "        output, error = process.communicate()\n",
        "else:\n",
        "    opfile = file\n",
        "# file_name = os.path.basename(opfile)\n",
        "# emotion = emotions[file_name.split('-')[2]]\n",
        "x = [extract_feature(opfile, True, True, True)]\n",
        "print(model.predict(x), emotion)"
      ]
    }
  ],
  "metadata": {
    "colab": {
      "collapsed_sections": [],
      "name": "Speech Emotion Recognition Notebook.ipynb",
      "provenance": []
    },
    "kernelspec": {
      "display_name": "Python 3",
      "name": "python3"
    },
    "language_info": {
      "codemirror_mode": {
        "name": "ipython",
        "version": 3
      },
      "file_extension": ".py",
      "mimetype": "text/x-python",
      "name": "python",
      "nbconvert_exporter": "python",
      "pygments_lexer": "ipython3",
      "version": "3.9.7"
    }
  },
  "nbformat": 4,
  "nbformat_minor": 0
}
