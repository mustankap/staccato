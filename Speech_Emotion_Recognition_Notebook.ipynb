{
<<<<<<< HEAD
 "cells": [
  {
   "cell_type": "code",
   "execution_count": 1,
   "metadata": {
    "colab": {},
    "colab_type": "code",
    "id": "kZTfgUu51RCX"
   },
   "outputs": [],
   "source": [
    "#Import All Important Libraries\n",
    "import librosa\n",
    "import soundfile\n",
    "import os, glob, pickle\n",
    "import numpy as np\n",
    "import matplotlib.pyplot as plt\n",
    "from sklearn.model_selection import train_test_split\n",
    "from sklearn.neural_network import MLPClassifier\n",
    "from sklearn.metrics import accuracy_score, confusion_matrix"
   ]
  },
  {
   "cell_type": "code",
   "execution_count": 2,
   "metadata": {
    "colab": {},
    "colab_type": "code",
    "id": "dvGpG07E_3Uo"
   },
   "outputs": [],
   "source": [
    "#function for extracting mfcc, chroma, and mel features from sound file\n",
    "def extract_feature(file_name, mfcc, chroma, mel):\n",
    "  with soundfile.SoundFile(file_name) as sound_file:\n",
    "    X = sound_file.read(dtype=\"float32\")\n",
    "    sample_rate=sound_file.samplerate\n",
    "    if chroma:\n",
    "      stft=np.abs(librosa.stft(X))\n",
    "    result=np.array([])\n",
    "    if mfcc:\n",
    "      mfccs=np.mean(librosa.feature.mfcc(y=X, sr=sample_rate, n_mfcc=40).T, axis=0)\n",
    "      result=np.hstack((result, mfccs))\n",
    "    if chroma:\n",
    "      chroma=np.mean(librosa.feature.chroma_stft(S=stft, sr=sample_rate).T,axis=0)\n",
    "      result=np.hstack((result, chroma))\n",
    "    if mel:\n",
    "      mel=np.mean(librosa.feature.melspectrogram(X, sr=sample_rate).T,axis=0)\n",
    "      result=np.hstack((result, mel))\n",
    "  return result"
   ]
  },
  {
   "cell_type": "code",
   "execution_count": 3,
   "metadata": {
    "colab": {},
    "colab_type": "code",
    "id": "p-UIAg03Xis1"
   },
   "outputs": [],
   "source": [
    "#Define the motions dictionary\n",
    "emotions = {\n",
    "    '01':'neutral',\n",
    "    '02':'calm',\n",
    "    '03':'happy',\n",
    "    '04':'sad',\n",
    "    '05':'angry',\n",
    "    '06':'fearful',\n",
    "    '07':'disgust',\n",
    "    '08':'surprised'\n",
    "}\n",
    "\n",
    "#Emotions we want to observe\n",
    "observed_emotions = ['calm', 'happy', 'fearful', 'disgust']"
   ]
  },
  {
   "cell_type": "code",
   "execution_count": 4,
   "metadata": {
    "colab": {},
    "colab_type": "code",
    "id": "154OQUcVZ4tt"
   },
   "outputs": [],
   "source": [
    "#Load the data and extract features for each sound file\n",
    "def load_data(test_size = 0.2):\n",
    "  x, y = [], []\n",
    "  print(0)\n",
    "  for folder in glob.glob('./Datasets/Actor_*'):\n",
    "    # print(0)\n",
    "    print(folder)\n",
    "    for file in glob.glob(folder + '/*.wav'):\n",
    "      file_name = os.path.basename(file)\n",
    "      emotion = emotions[file_name.split('-')[2]]\n",
    "      if emotion not in observed_emotions:\n",
    "        continue\n",
    "      feature = extract_feature(file, mfcc = True, chroma = True, mel = True)\n",
    "      x.append(feature)\n",
    "      y.append(emotion)\n",
    "  return train_test_split(np.array(x), y, test_size = test_size, random_state = 9)\n"
   ]
  },
  {
   "cell_type": "code",
   "execution_count": 5,
   "metadata": {
    "colab": {
     "base_uri": "https://localhost:8080/",
     "height": 425
=======
  "cells": [
    {
      "cell_type": "code",
      "execution_count": 81,
      "metadata": {
        "colab": {},
        "colab_type": "code",
        "id": "kZTfgUu51RCX"
      },
      "outputs": [],
      "source": [
        "#Import All Important Libraries\n",
        "import librosa\n",
        "from pydub import AudioSegment\n",
        "import subprocess\n",
        "import soundfile\n",
        "import os, glob, pickle\n",
        "import numpy as np\n",
        "import matplotlib.pyplot as plt\n",
        "from sklearn.model_selection import train_test_split\n",
        "from sklearn.neural_network import MLPClassifier\n",
        "from pathlib import Path\n",
        "from sklearn.metrics import accuracy_score, confusion_matrix"
      ]
    },
    {
      "cell_type": "code",
      "execution_count": 37,
      "metadata": {
        "colab": {},
        "colab_type": "code",
        "id": "dvGpG07E_3Uo"
      },
      "outputs": [],
      "source": [
        "#function for extracting mfcc, chroma, and mel features from sound file\n",
        "def extract_feature(file_name, mfcc, chroma, mel):\n",
        "  with soundfile.SoundFile(file_name) as sound_file:\n",
        "    X = sound_file.read(dtype=\"float32\")\n",
        "    sample_rate=sound_file.samplerate\n",
        "    if chroma:\n",
        "      stft=np.abs(librosa.stft(X))\n",
        "    result=np.array([])\n",
        "    if mfcc:\n",
        "      mfccs=np.mean(librosa.feature.mfcc(y=X, sr=sample_rate, n_mfcc=40).T, axis=0)\n",
        "      result=np.hstack((result, mfccs))\n",
        "    if chroma:\n",
        "      chroma=np.mean(librosa.feature.chroma_stft(S=stft, sr=sample_rate).T,axis=0)\n",
        "      result=np.hstack((result, chroma))\n",
        "    if mel:\n",
        "      mel=np.mean(librosa.feature.melspectrogram(X, sr=sample_rate).T,axis=0)\n",
        "      result=np.hstack((result, mel))\n",
        "  return result"
      ]
    },
    {
      "cell_type": "code",
      "execution_count": 38,
      "metadata": {
        "colab": {},
        "colab_type": "code",
        "id": "p-UIAg03Xis1"
      },
      "outputs": [],
      "source": [
        "#Define the motions dictionary\n",
        "emotions = {\n",
        "    '01':'neutral',\n",
        "    '02':'calm',\n",
        "    '03':'happy',\n",
        "    '04':'sad',\n",
        "    '05':'angry',\n",
        "    '06':'fearful',\n",
        "    '07':'disgust',\n",
        "    '08':'surprised'\n",
        "}\n",
        "\n",
        "#Emotions we want to observe\n",
        "observed_emotions = ['calm', 'happy', 'fearful', 'disgust']"
      ]
    },
    {
      "cell_type": "code",
      "execution_count": 39,
      "metadata": {
        "colab": {},
        "colab_type": "code",
        "id": "154OQUcVZ4tt"
      },
      "outputs": [],
      "source": [
        "#Load the data and extract features for each sound file\n",
        "def load_data(test_size = 0.2):\n",
        "    x, y = [], []\n",
        "    print(0)\n",
        "    for folder in glob.glob('./Datasets/Actor_*'):\n",
        "        # print(0)\n",
        "        print(folder)\n",
        "        for file in glob.glob(folder + '/*.wav'):\n",
        "            # print(file)\n",
        "            file_name = os.path.basename(file)\n",
        "            emotion = emotions[file_name.split('-')[2]]\n",
        "            if emotion not in observed_emotions:\n",
        "                continue\n",
        "            feature = extract_feature(file, mfcc = True, chroma = True, mel = True)\n",
        "            x.append(feature)\n",
        "            y.append(emotion)\n",
        "    return train_test_split(np.array(x), y, test_size = test_size, random_state = 9)"
      ]
    },
    {
      "cell_type": "code",
      "execution_count": 40,
      "metadata": {
        "colab": {
          "base_uri": "https://localhost:8080/",
          "height": 425
        },
        "colab_type": "code",
        "id": "J2f0qX1PjBU0",
        "outputId": "ea97dc04-3154-479b-918f-51a83cbbf2f3"
      },
      "outputs": [
        {
          "name": "stdout",
          "output_type": "stream",
          "text": [
            "0\n",
            "./Datasets/Actor_15\n",
            "./Datasets/Actor_09\n",
            "./Datasets/Actor_02\n",
            "./Datasets/Actor_23\n",
            "./Datasets/Actor_08\n",
            "./Datasets/Actor_16\n",
            "./Datasets/Actor_04\n",
            "./Datasets/Actor_22\n",
            "./Datasets/Actor_12\n",
            "./Datasets/Actor_21\n",
            "./Datasets/Actor_03\n",
            "./Datasets/Actor_17\n",
            "./Datasets/Actor_24\n",
            "./Datasets/Actor_06\n",
            "./Datasets/Actor_11\n",
            "./Datasets/Actor_20\n",
            "./Datasets/Actor_13\n",
            "./Datasets/Actor_14\n",
            "./Datasets/Actor_10\n",
            "./Datasets/Actor_01\n",
            "./Datasets/Actor_19\n",
            "./Datasets/Actor_07\n",
            "./Datasets/Actor_05\n"
          ]
        }
      ],
      "source": [
        "x_train,x_test,y_train,y_test=load_data(test_size=0.3)"
      ]
    },
    {
      "cell_type": "code",
      "execution_count": 41,
      "metadata": {
        "colab": {
          "base_uri": "https://localhost:8080/",
          "height": 51
        },
        "colab_type": "code",
        "id": "HpN02uwkpekV",
        "outputId": "78905251-85ce-4d73-92aa-ce7e334840e3"
      },
      "outputs": [
        {
          "name": "stdout",
          "output_type": "stream",
          "text": [
            "(386, 166)\n",
            "Features extracted: 180\n"
          ]
        }
      ],
      "source": [
        "#Shape of train and test set and Number of features extracted\n",
        "print((x_train.shape[0], x_test.shape[0]))\n",
        "print(f'Features extracted: {x_train.shape[1]}')"
      ]
    },
    {
      "cell_type": "code",
      "execution_count": 42,
      "metadata": {
        "colab": {},
        "colab_type": "code",
        "id": "ZXwY7HVDuuTv"
      },
      "outputs": [],
      "source": [
        "#Initialise Multi Layer Perceptron Classifier\n",
        "model = MLPClassifier(alpha = 0.01, batch_size = 256, epsilon = 1e-08, hidden_layer_sizes = (1000,), learning_rate = 'adaptive', max_iter = 500)"
      ]
>>>>>>> 7d4baf6955a35fe8ee9ded699ec3e9dd29314c22
    },
    "colab_type": "code",
    "id": "J2f0qX1PjBU0",
    "outputId": "ea97dc04-3154-479b-918f-51a83cbbf2f3"
   },
   "outputs": [
    {
<<<<<<< HEAD
     "name": "stdout",
     "output_type": "stream",
     "text": [
      "0\n",
      "./Datasets/Actor_04\n",
      "./Datasets/Actor_18\n",
      "./Datasets/Actor_11\n",
      "./Datasets/Actor_20\n",
      "./Datasets/Actor_08\n",
      "./Datasets/Actor_15\n",
      "./Datasets/Actor_12\n",
      "./Datasets/Actor_14\n",
      "./Datasets/Actor_24\n",
      "./Datasets/Actor_19\n",
      "./Datasets/Actor_21\n",
      "./Datasets/Actor_10\n",
      "./Datasets/Actor_22\n",
      "./Datasets/Actor_06\n",
      "./Datasets/Actor_23\n",
      "./Datasets/Actor_03\n",
      "./Datasets/Actor_16\n",
      "./Datasets/Actor_09\n",
      "./Datasets/Actor_05\n",
      "./Datasets/Actor_01\n",
      "./Datasets/Actor_13\n",
      "./Datasets/Actor_17\n",
      "./Datasets/Actor_02\n",
      "./Datasets/Actor_07\n"
     ]
    }
   ],
   "source": [
    "x_train,x_test,y_train,y_test=load_data(test_size=0.2)"
   ]
  },
  {
   "cell_type": "code",
   "execution_count": 6,
   "metadata": {
    "colab": {
     "base_uri": "https://localhost:8080/",
     "height": 51
=======
      "cell_type": "code",
      "execution_count": 43,
      "metadata": {
        "colab": {
          "base_uri": "https://localhost:8080/",
          "height": 153
        },
        "colab_type": "code",
        "id": "0_LKbQ3KvJy-",
        "outputId": "429e189c-625a-4187-d6e8-d729e85783ff"
      },
      "outputs": [],
      "source": [
        "history=model.fit(x_train, y_train)"
      ]
>>>>>>> 7d4baf6955a35fe8ee9ded699ec3e9dd29314c22
    },
    "colab_type": "code",
    "id": "HpN02uwkpekV",
    "outputId": "78905251-85ce-4d73-92aa-ce7e334840e3"
   },
   "outputs": [
    {
<<<<<<< HEAD
     "name": "stdout",
     "output_type": "stream",
     "text": [
      "(441, 111)\n",
      "Features extracted: 180\n"
     ]
    }
   ],
   "source": [
    "#Shape of train and test set and Number of features extracted\n",
    "print((x_train.shape[0], x_test.shape[0]))\n",
    "print(f'Features extracted: {x_train.shape[1]}')"
   ]
  },
  {
   "cell_type": "code",
   "execution_count": 7,
   "metadata": {
    "colab": {},
    "colab_type": "code",
    "id": "ZXwY7HVDuuTv"
   },
   "outputs": [],
   "source": [
    "#Initialise Multi Layer Perceptron Classifier\n",
    "model = MLPClassifier(alpha = 0.01, batch_size = 256, epsilon = 1e-08, hidden_layer_sizes = (1000,), learning_rate = 'adaptive', max_iter = 500)"
   ]
  },
  {
   "cell_type": "code",
   "execution_count": 8,
   "metadata": {
    "colab": {
     "base_uri": "https://localhost:8080/",
     "height": 153
=======
      "cell_type": "code",
      "execution_count": 44,
      "metadata": {},
      "outputs": [
        {
          "data": {
            "text/plain": [
              "MLPClassifier(alpha=0.01, batch_size=256, hidden_layer_sizes=(1000,),\n",
              "              learning_rate='adaptive', max_iter=500)"
            ]
          },
          "execution_count": 44,
          "metadata": {},
          "output_type": "execute_result"
        }
      ],
      "source": [
        "history"
      ]
>>>>>>> 7d4baf6955a35fe8ee9ded699ec3e9dd29314c22
    },
    "colab_type": "code",
    "id": "0_LKbQ3KvJy-",
    "outputId": "429e189c-625a-4187-d6e8-d729e85783ff"
   },
   "outputs": [],
   "source": [
    "history=model.fit(x_train, y_train)"
   ]
  },
  {
   "cell_type": "code",
   "execution_count": 9,
   "metadata": {},
   "outputs": [
    {
<<<<<<< HEAD
     "data": {
      "text/plain": [
       "MLPClassifier(alpha=0.01, batch_size=256, hidden_layer_sizes=(1000,),\n",
       "              learning_rate='adaptive', max_iter=500)"
=======
      "cell_type": "code",
      "execution_count": 45,
      "metadata": {
        "colab": {},
        "colab_type": "code",
        "id": "glTuS50TwN0I"
      },
      "outputs": [],
      "source": [
        "#Predict for the test set\n",
        "y_pred = model.predict(x_test)"
>>>>>>> 7d4baf6955a35fe8ee9ded699ec3e9dd29314c22
      ]
     },
     "execution_count": 9,
     "metadata": {},
     "output_type": "execute_result"
    }
   ],
   "source": [
    "history"
   ]
  },
  {
   "cell_type": "code",
   "execution_count": 10,
   "metadata": {
    "colab": {},
    "colab_type": "code",
    "id": "glTuS50TwN0I"
   },
   "outputs": [],
   "source": [
    "#Predict for the test set\n",
    "y_pred = model.predict(x_test)"
   ]
  },
  {
   "cell_type": "code",
   "execution_count": 11,
   "metadata": {
    "colab": {
     "base_uri": "https://localhost:8080/",
     "height": 34
    },
    "colab_type": "code",
    "id": "qqVnMdQmwUXG",
    "outputId": "20d90e48-b15b-47f3-ff7c-62151a3dff82"
   },
   "outputs": [
    {
<<<<<<< HEAD
     "name": "stdout",
     "output_type": "stream",
     "text": [
      "Accuracy: 96.40%\n"
     ]
    }
   ],
   "source": [
    "#Calculate Accuracy\n",
    "accuracy = accuracy_score(y_test, y_pred)\n",
    "print(\"Accuracy: {:.2f}%\".format(accuracy*100))"
   ]
  },
  {
   "cell_type": "code",
   "execution_count": 12,
   "metadata": {},
   "outputs": [
    {
     "data": {
      "image/png": "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\n",
      "text/plain": [
       "<Figure size 432x288 with 1 Axes>"
      ]
     },
     "metadata": {
      "needs_background": "light"
     },
     "output_type": "display_data"
=======
      "cell_type": "code",
      "execution_count": 46,
      "metadata": {
        "colab": {
          "base_uri": "https://localhost:8080/",
          "height": 34
        },
        "colab_type": "code",
        "id": "qqVnMdQmwUXG",
        "outputId": "20d90e48-b15b-47f3-ff7c-62151a3dff82"
      },
      "outputs": [
        {
          "name": "stdout",
          "output_type": "stream",
          "text": [
            "Accuracy: 93.98%\n"
          ]
        }
      ],
      "source": [
        "#Calculate Accuracy\n",
        "accuracy = accuracy_score(y_test, y_pred)\n",
        "print(\"Accuracy: {:.2f}%\".format(accuracy*100))"
      ]
    },
    {
      "cell_type": "code",
      "execution_count": 47,
      "metadata": {},
      "outputs": [
        {
          "data": {
            "image/png": "iVBORw0KGgoAAAANSUhEUgAAAX4AAAD4CAYAAADrRI2NAAAAOXRFWHRTb2Z0d2FyZQBNYXRwbG90bGliIHZlcnNpb24zLjUuMCwgaHR0cHM6Ly9tYXRwbG90bGliLm9yZy8/fFQqAAAACXBIWXMAAAsTAAALEwEAmpwYAAAdLElEQVR4nO3dfZAc9Z3f8fdnemZ39QQIacEg8RxBDjsBc1sYHz7HPg4CssvYF9cFKrG5C3U6rqBip3xV4c5VF/+TKieOnTobHxRnKOPEATuxsamybCCcbaBiGy8cj5aFBMZGSJZWCKHHfZiZb/6Ynt3Z0czuamZWg7o/r2Jr+uHX3b+fZvn2b7/9625FBGZmlh+FflfAzMyOLQd+M7OcceA3M8sZB34zs5xx4Dczy5livyvQyurVq+Pss8/udzXMzI4bTz755O6IGF5I2bdk4D/77LMZHR3tdzXMzI4bkn690LJO9ZiZ5YwDv5lZzjjwm5nljAO/mVnOOPCbmeXMvIFf0hmSfihpk6QXJH0iXX6ypIclbUk/V7bZ/mpJmyVtlXRrrxtgZmZHZyE9/jLwqYj4HeAy4GZJFwK3Ao9ExDrgkXR+FkkJ8GXgGuBC4Pp0WzMz65N5A39E7IiIp9Lp/cAmYA1wLXBPWuwe4MMtNr8U2BoRL0fEJHBfut2i+OIjW/jxi2OLtXszs0w4qhy/pLOBdwI/A06NiB1QOzkAp7TYZA3wasP8tnRZq31vkDQqaXRsrLPgffuPXuLxLQ78ZmZzWXDgl7Qc+BbwyYjYt9DNWixr+eaXiLgzIkYiYmR4eEF3HR+hmIipil8sY2Y2lwUFfkklakH/6xHx7XTxTkmnpetPA3a12HQbcEbD/Fpge+fVnVspKVCuVhdr92ZmmbCQUT0C7gI2RcQXGlY9ANyQTt8AfLfF5j8H1kk6R9IAcF263aIoFkTZPX4zszktpMd/OfAx4A8kPZ3+rAc+C1wpaQtwZTqPpNMlbQSIiDJwC/AgtYvC34yIFxahHUCtx+9Uj5nZ3OZ9OmdEPE7rXD3AFS3KbwfWN8xvBDZ2WsGjUUzkVI+Z2TwydeeuUz1mZvPLWOAvMFVxj9/MbC7ZCvyJqFTd4zczm0vGAn+BKQd+M7M5ZSrwlwqi7FSPmdmcMhX4i4kv7pqZzSdTgb+UFJjycE4zszllKvB7OKeZ2fyyFfgTD+c0M5tPpgJ/KRFlj+oxM5tTpgJ/sVDwqB4zs3lkK/D7efxmZvPKVOAvFfw8fjOz+WQq8Hscv5nZ/DIV+Ese1WNmNq9MBf5iwaN6zMzmM++LWCTdDXwQ2BUR70iXfQO4IC1yErA3Ii5use0rwH6gApQjYqQntW4jcarHzGxe8wZ+4KvAbcDX6gsi4l/XpyV9Hnhzju3fHxG7O63g0fDFXTOz+S3k1YuPSjq71br0Rex/DPxBj+vVkWIiqgHValAotHtbpJlZvnWb4/99YGdEbGmzPoCHJD0pacNcO5K0QdKopNGxsbGOKlNKas3xg9rMzNrrNvBfD9w7x/rLI+IS4BrgZknvbVcwIu6MiJGIGBkeHu6oMsW0l+88v5lZex0HfklF4I+Ab7QrExHb089dwP3ApZ0ebyGKaY/fgd/MrL1uevx/CPwyIra1WilpmaQV9WngKuD5Lo43r1JS6/E71WNm1t68gV/SvcBPgAskbZN0Y7rqOprSPJJOl7QxnT0VeFzSM8ATwPci4ge9q/qRigX3+M3M5rOQUT3Xt1n+Jy2WbQfWp9MvAxd1Wb+jUqz3+H33rplZW5m6c7ee6vHdu2Zm7WUq8M+ketzjNzNrJ1OBf/rirnP8ZmZtZSrwT/f4ParHzKytbAV+9/jNzOaVrcDvHL+Z2byyFfg9qsfMbF6ZCvwezmlmNr9MBX6neszM5petwO+Lu2Zm88pU4K8/j9/DOc3M2stU4Pfz+M3M5pepwD/9Bi7n+M3M2spU4PdwTjOz+WUr8HtUj5nZvBbyIpa7Je2S9HzDss9Iek3S0+nP+jbbXi1ps6Stkm7tZcVb8UPazMzmt5Ae/1eBq1ss/+8RcXH6s7F5paQE+DK1F61fCFwv6cJuKjufYsOontcPTPCBLz7GS2MHFvOQZmbHnXkDf0Q8CuzpYN+XAlsj4uWImATuA67tYD8LVh/VM1UJRn/9Bi9s38cvtu9bzEOamR13usnx3yLp2TQVtLLF+jXAqw3z29Jli2Z6HH8l2Pzb/QCMT1UW85BmZsedTgP/7cB5wMXADuDzLcqoxbK2yXdJGySNShodGxvrqFJJQUi1VM/mnQ78ZmatdBT4I2JnRFQiogr8PbW0TrNtwBkN82uB7XPs886IGImIkeHh4U6qBdTSPVOV4MXpHr9H+JiZNeoo8Es6rWH2I8DzLYr9HFgn6RxJA8B1wAOdHO9oFAsFDk+W+dXug4B7/GZmzYrzFZB0L/A+YLWkbcB/At4n6WJqqZtXgD9Py54OfCUi1kdEWdItwINAAtwdES8sRiMaFRPx4s4D0zdxjZcd+M3MGs0b+CPi+haL72pTdjuwvmF+I3DEUM/FVEoKvLD9zel5p3rMzGbL1J27UMvx7xsvA7BiqOhUj5lZk3l7/Meb+pDOU1YMUkoK7vGbmTXJXo8/fWzDmpVLGCwVnOM3M2uSuR5//e7dNSctYWKqyoRTPWZms2Svx58+oXPNyiUMlZzqMTNrlrnAv/fwJFDr8Q+VEl/cNTNrkrnAv3PfBNAQ+J3jNzObJXOBv86pHjOz1jIb+E8/aQlDRad6zMyaZTbwnzBUYtA5fjOzI2Q28ANO9ZiZtZC5cfxP/PUVTKYvW1/iHr+Z2REyF/hPOWFoenqolFCuBuVKdfp9vGZmeZfpaDhUqjVvvOx0j5lZXcYDfwL4ZSxmZo2yHfiLDvxmZs3mDfyS7pa0S9LzDcs+J+mXkp6VdL+kk9ps+4qk5yQ9LWm0h/VekMF6qscje8zMpi2kx/9V4OqmZQ8D74iIfw68CPzVHNu/PyIujoiRzqrYOad6zMyONG/gj4hHgT1Nyx6KiHI6+1Ng7SLUrWv1wD/h5/WYmU3rRY7/3wHfb7MugIckPSlpw1w7kbRB0qik0bGxsR5UC4aKTvWYmTXrKvBL+jRQBr7epsjlEXEJcA1ws6T3tttXRNwZESMRMTI8PNxNtaY51WNmdqSOA7+kG4APAv8mIqJVmYjYnn7uAu4HLu30eJ2YCfzu8ZuZ1XUU+CVdDfxH4EMRcahNmWWSVtSngauA51uVXSz1G7gOu8dvZjZtIcM57wV+AlwgaZukG4HbgBXAw+lQzTvSsqdL2phueirwuKRngCeA70XEDxalFW041WNmdqR5n9UTEde3WHxXm7LbgfXp9MvARV3Vrku+gcvM7EiZvnO3fgPXhJ/VY2Y2LduBv1hAco/fzKxRpgO/JL9+0cysSaYDP9TSPR7OaWY2I/OBv5QUKFcd+M3M6jIf+AeSApPllveXmZnlUuYDfykRUxX3+M3M6nIQ+AsO/GZmDRz4zcxyJvuBv1hgsuIcv5lZXeYD/0Aiyu7xm5lNy3zgd6rHzGy2XAR+p3rMzGbkIvBP+SFtZmbTMh/4B4oex29m1ijzgb+e448IDkyU+10dM7O+W8gbuO6WtEvS8w3LTpb0sKQt6efKNtteLWmzpK2Sbu1lxReqFviDB1/4Le/6z/+XfeNT/aiGmdlbxkJ6/F8Frm5adivwSESsAx5J52eRlABfBq4BLgSul3RhV7XtQO3ibpVtbxzm4GSFbXsOH+sqmJm9pcwb+CPiUWBP0+JrgXvS6XuAD7fY9FJga0S8HBGTwH3pdsfUQPqsnvpbuHbtHz/WVTAze0vpNMd/akTsAEg/T2lRZg3wasP8tnRZS5I2SBqVNDo2NtZhtY5UH9UzHfj3TfRs32Zmx6PFvLirFsvaDqiPiDsjYiQiRoaHh3tWiVKxluOfdI/fzAzoPPDvlHQaQPq5q0WZbcAZDfNrge0dHq9jpYKYrFSnX7+4a797/GaWb50G/geAG9LpG4Dvtijzc2CdpHMkDQDXpdsdU6Wk1sRDk7WhnDv3ucdvZvm2kOGc9wI/AS6QtE3SjcBngSslbQGuTOeRdLqkjQARUQZuAR4ENgHfjIgXFqcZ7ZWKtSbWx/C7x29meVecr0BEXN9m1RUtym4H1jfMbwQ2dly7Hqj3+PePp4HfF3fNLOcyf+fuQFK7xjzT4x8nwg9tM7P8ynzgr/f4D6Q9/qlK8MYh371rZvmVm8B/sOE5PR7SaWZ5lv3A33Bxd0kpAZznN7N8y3zgb8zxn3biEAB7Dk72s0pmZn2V+cBfT/VUA1YsKQEw6efzm1mO5SbwA5wwVBu9Ouk3cplZjuUq8C8fdOA3M8t84B8ozjwrbkXa4/erGM0szzIf+Gf3+NMcv3v8ZpZjuQr8ywYTJF/cNbN8y1XgHyol069iNDPLq8wH/oGGwD9YLDCYFJzqMbNcy3zgLyYzF3cHiwUGig78ZpZvmQ/8pVk9/jTV48BvZjmW+cDfmOoZSHv8Hs5pZnnWceCXdIGkpxt+9kn6ZFOZ90l6s6HM33Rd46NUKrZI9Tjwm1mOzfsGrnYiYjNwMYCkBHgNuL9F0cci4oOdHqdbs1I9pYJTPWaWe71K9VwBvBQRv+7R/nqmWGjs8Sdpj99v4DKz/OpV4L8OuLfNundLekbS9yW9vd0OJG2QNCppdGxsrEfVAknTef6Z4ZyVnu3fzOx403XglzQAfAj43y1WPwWcFREXAV8CvtNuPxFxZ0SMRMTI8PBwt9WapZQO6RwsJpSKcqrHzHKtFz3+a4CnImJn84qI2BcRB9LpjUBJ0uoeHPOo1N/CNVgqMJAUmHKqx8xyrBeB/3rapHkkvU2S0ulL0+O93oNjHpVSQ6rHN3CZWd51PKoHQNJS4ErgzxuW3QQQEXcAHwX+QlIZOAxcFxHHvLtdz/HXxvEnHs5pZrnWVeCPiEPAqqZldzRM3wbc1s0xemFWjj9xjt/M8i3zd+7C7FTPoG/gMrOcy13gH/ANXGaWc/kI/MUCSUEUk9qdu35Wj5nlWS4C/0AiBoszF3jd4zezPMtF4C8lhVmBv1wNqlWP5TezfMpF4C8mBQaLCTCT7/cFXjPLq1wE/oFEDBRnLvCCA7+Z5VdX4/iPF6uXD/LGoSmA6ROA8/xmlle5CPyf/sDvTD+fp34XrwO/meVVLgL/iqHS9HQ9x+8hnWaWV7nI8TdqTPXsH5/iB8//ts81MjM7tnIb+CfKVd7/337MTf/zSbbvPdznWpmZHTv5C/xpqufeJ37D7gMTABycKPezSmZmx1T+An/a4/9+Q4rn8JRfxWhm+ZHbwL/n4OT0svEpX+g1s/zoKvBLekXSc5KeljTaYr0kfVHSVknPSrqkm+P1Qn1UD8DpJw4BMO4ev5nlSC+Gc74/Ina3WXcNsC79eRdwe/rZNwMNgX/tyqVsf3PcqR4zy5XFTvVcC3wtan4KnCTptEU+5pzqqR6AtSuXAO7xm1m+dBv4A3hI0pOSNrRYvwZ4tWF+W7qsb2b3+GuBf8I5fjPLkW5TPZdHxHZJpwAPS/plRDzasF4ttmn5POT0xLEB4Mwzz+yyWu3N7vEvBTyqx8zypasef0RsTz93AfcDlzYV2Qac0TC/FtjeZl93RsRIRIwMDw93U605OdVjZnnXceCXtEzSivo0cBXwfFOxB4CPp6N7LgPejIgdHde2BxoD/5o08LvHb2Z50k2q51Tgfkn1/fyviPiBpJsAIuIOYCOwHtgKHAL+tLvqdq+UzGSfTlkxxEBS8Dh+M8uVjgN/RLwMXNRi+R0N0wHc3OkxFkP94u6ygYQlAwmDpYJTPWaWK7m7c1cSA0mBVcsHAVhSShz4zSxXchf4oZbuWb18AIAhB34zy5lcBv6B4kyPf6jkHL+Z5UsuA/+alUu44NQVQC3V41E9ZpYnuXj1YrP/c9PvUSzURvcMOtVjZjmTyx7/UCmhmI7u8cVdM8ubXAb+Rs7xm1neOPCXEsbLFV4aO8DY/ol+V8fMbNHlPvAvKSUcnqzwZ/eM8rkHf9nv6piZLbpcXtxtNJSO6tl7aIq1Jy/td3XMzBZd7gP/YKnA/vEyAG80vIfXzCyrnOopJdPTbxxy4Dez7Mt94B9qCPx7D031sSZmZsdG7gN/Y4//wESZybKHdppZtuU+8A+VZv8T7HW6x8wyzoG/occP8IbTPWaWcd28evEMST+UtEnSC5I+0aLM+yS9Kenp9Odvuqtu7x0Z+N3jN7Ns62Y4Zxn4VEQ8lb5790lJD0fEL5rKPRYRH+ziOIuqHviXDiQcmqw41WNmmddxjz8idkTEU+n0fmATsKZXFTtW6hd3152yHKilevaPT3HN3z7GT156vZ9VMzNbFD3J8Us6G3gn8LMWq98t6RlJ35f09jn2sUHSqKTRsbGxXlRrQeoXd9elz+ffc3CSx7fsZtOOfTz1mzeOWT3MzI6VrgO/pOXAt4BPRsS+ptVPAWdFxEXAl4DvtNtPRNwZESMRMTI8PNxttRasnuo58+SlDJUK7D00yY821048uw/4oW1mlj1dBX5JJWpB/+sR8e3m9RGxLyIOpNMbgZKk1d0cs9dOGCoBcPpJS1i5dIA9B6f48Yv1wO98v5llTzejegTcBWyKiC+0KfO2tBySLk2P95ZKnL/txCHu23AZH7rodE5aOsBPX36d3+4bB2C3H9NsZhnUzaiey4GPAc9Jejpd9tfAmQARcQfwUeAvJJWBw8B1ERFdHHNRXHbuKgBWLi2xacc+BosF3rHmRKd6zCyTOg78EfE4oHnK3Abc1ukxjrVX3zgEwKeuOp/f7DnE957d0ecamZn1Xu7v3G30iSvO5wP/7DRufM+5rFo2yBuHpihX/OweM8uW3D+Pv9FHf3ctH/3dtQCsXjEI1IZ3nnLCUD+rZWbWU+7xtzG8fACAB57Zzpd/uLXPtTEz6x33+NtYvbzW4//8Qy8yWanyZ79/LgNFnyfN7PjnSNbGqjTwH56qUKkGv9lzqM81MjPrDQf+NlanqZ66l8cO9KkmZma95cDfxvLBIoPFAkoHrG7asZ+P3fUzP7jNzI57zvG3IYnVywdZtXyAHW+O883RV3lt72FWLx/k3eet6nf1zMw65h7/HD511fn85VUXcN7wMl7bexiAx7bs5i1487GZ2YI58M/hjy5Zy3vPH+bc4dqz+geLBXYfmODvfvQSX3hoc59rZ2bWGQf+BTgvDfw3vuccAD734Ga++A9bfcHXzI5LDvwL8HvnreLc4WV8/N1nc+FpJ7DmpCUAfOcfX+MT9/0jP33ZF3zN7Piht2K+emRkJEZHR/tdjZZ2H5iglBT4+N1P8Ny2vVQD/unbVvCZD72dx7aM8R/+8HyKic+nZnZsSXoyIkYWUtajeo5S/Y7eq9/+Np55dS/nrF7GL3+7n3/7lZ9Rrga7909y5qql/Ivzh3nHmhP7XFszsyM58Hfoj0fWsuPNw/z7K9bxr27/f4xPVXjPPxnmG6OvAvClf9jCR965hkOTFUbOWsll565CEoPFAmtXLkGa84nWZmaLxqmeHhjbP0FSECcMFXls627OWLmUW7/1LJt27GP5UJGd+2a/0GWoVKCUFDhveDmnrBhksJQwWCywpJSwduUSVi8fZNlgwlApYaBYYCCplS8lBQaKmp4uJpq1rpTIJxSznDqaVE9XgV/S1cDfAgnwlYj4bNN6pevXA4eAP4mIp+bb7/EW+Nup/9v+Zs8hnvjVHoqJODhR4ZXdB5msVHlx5372HppiolxlYqrCgYky+8bLXR2zlKjhRFBgIBGlYnqiKIiB4sxJorY+nS/WljWfSKani0eum9lXU9n6vosFCoLxqSonLxvgxCUlChKFAhQkEgkJn6zMeuCY5PglJcCXgSuBbcDPJT0QEb9oKHYNsC79eRdwe/qZC/WAdtaqZZy1atmCtnnz8BR7D01yaLLCockK5UqVqUowVakyWakyVf8px+z5SjBZnj0/a12lylR59vyBifL0vur7Lx9xrKBSXdy/CgsiPSGIgiCRZs8XxNKBIiuGikyWqyTpCWwg/asnKdTKDxYLLB0oUkoKjE9VkJg+4RWTdJ+qlVd6zGJBrBgqUqnWHsi3pJQwVCqQFDT9U9+mfqKCme82qZ/ECrV91Y9RO6GBEOl/SEo/a8uVLqdpXmqcrhXQHPugeZ9H7O8o9nE0dWwox/RxF1jH5nJpoXKlSrka6eNSRLUaRPo74g5C73ST478U2BoRLwNIug+4FmgM/NcCX0vfs/tTSSdJOi0i/E7DNk5cUuLEJaV+V2OWSjWOOKFMllufYKZPGuXafLlaZbCY8PrBCQ5OlKlUoRpBtRpUAyoRRNROLtWYWVdpKnNwosz+8TKDxQLl6uw6lCu18q8fqHJossxkucqSgYSA6fXlatNxqkE1assnyrW3rJUSMVV566U+80KCegKiIAhm5uvrE82ckBOJJNH0+1/rJwY1lK/PTZ98Zq1rOjE17afxuI3lAYIgYqZ+EbUTVLPGTsCsTsERba8tOXnpAN+86d2t/4F6qJvAvwZ4tWF+G0f25luVWQMcEfglbQA2AJx55pldVMt6rfY/Wu2aQxaNT1VICrX0VKUajE9VKFdnn4Aq6UmjMRBFeqIq108ildpnNdKgwExAqG3XuHz2uqC2onG+eR/E7IAz7/6b9kHz8rn232IfNNZ3Vt3b7L9pnvqx5th/Uqj9FXd4slL7S7AghKb/XSv176Iy850w3f7037GhXo3roKlszC4/U6Jpf0esi+m/Vo78S2j270fAzO9DzHRkZmmYXTF0bMbbdHOUVn93NZ/0FlKmtjDiTuBOqOX4u6iX2VFpPKElBbFs0IPdLNu6udNoG3BGw/xaYHsHZczM7BjqJvD/HFgn6RxJA8B1wANNZR4APq6ay4A3nd83M+uvjv+mjYiypFuAB6kN57w7Il6QdFO6/g5gI7WhnFupDef80+6rbGZm3egqmRkRG6kF98ZldzRMB3BzN8cwM7Pe8tPEzMxyxoHfzCxnHPjNzHLGgd/MLGfekk/nlDQG/LrDzVcDu3tYneOJ254/eW03uO3NbT8rIoYXsvFbMvB3Q9LoQp9QlzVue/7antd2g9veTdud6jEzyxkHfjOznMli4L+z3xXoI7c9f/LabnDbO5a5HL+Zmc0tiz1+MzObgwO/mVnOZCbwS7pa0mZJWyXd2u/6LDZJr0h6TtLTkkbTZSdLeljSlvRzZb/r2QuS7pa0S9LzDcvatlXSX6W/B5sl/cv+1Lo32rT9M5JeS7/7pyWtb1iXpbafIemHkjZJekHSJ9Llmf7u52h37773SN95ejz/UHss9EvAucAA8AxwYb/rtchtfgVY3bTsvwK3ptO3Av+l3/XsUVvfC1wCPD9fW4EL0+9/EDgn/b1I+t2GHrf9M8BftiibtbafBlySTq8AXkzbmOnvfo529+x7z0qPf/rF7xExCdRf/J431wL3pNP3AB/uX1V6JyIeBfY0LW7X1muB+yJiIiJ+Re1dEJcei3ouhjZtbydrbd8REU+l0/uBTdTe2Z3p736Odrdz1O3OSuBv91L3LAvgIUlPpi+qBzg10jecpZ+n9K12i69dW/Pyu3CLpGfTVFA91ZHZtks6G3gn8DNy9N03tRt69L1nJfAv+KXuGXJ5RFwCXAPcLOm9/a7QW0QefhduB84DLgZ2AJ9Pl2ey7ZKWA98CPhkR++Yq2mLZcdv+Fu3u2feelcCfu5e6R8T29HMXcD+1P+12SjoNIP3c1b8aLrp2bc3870JE7IyISkRUgb9n5s/6zLVdUola8Pt6RHw7XZz5775Vu3v5vWcl8C/kxe+ZIWmZpBX1aeAq4Hlqbb4hLXYD8N3+1PCYaNfWB4DrJA1KOgdYBzzRh/otmnrQS32E2ncPGWu7JAF3AZsi4gsNqzL93bdrd0+/935fwe7hlfD11K5+vwR8ut/1WeS2nkvtKv4zwAv19gKrgEeALennyf2ua4/aey+1P22nqPVubpyrrcCn09+DzcA1/a7/IrT9fwDPAc+m/9OfltG2v4dayuJZ4On0Z33Wv/s52t2z792PbDAzy5mspHrMzGyBHPjNzHLGgd/MLGcc+M3McsaB38wsZxz4zcxyxoHfzCxn/j+vErUhzOhZFAAAAABJRU5ErkJggg==",
            "text/plain": [
              "<Figure size 432x288 with 1 Axes>"
            ]
          },
          "metadata": {
            "needs_background": "light"
          },
          "output_type": "display_data"
        }
      ],
      "source": [
        "loss_plot=model.loss_curve_\n",
        "plt.plot(loss_plot)\n",
        "plt.show()"
      ]
    },
    {
      "cell_type": "code",
      "execution_count": 88,
      "metadata": {},
      "outputs": [
        {
          "name": "stdout",
          "output_type": "stream",
          "text": [
            "['fearful'] anger\n"
          ]
        }
      ],
      "source": [
        "file = './test/agk.mp3'\n",
        "emotion = \"anger\"\n",
        "opfile = \"./test/test_anger_4.wav\"\n",
        "p = Path(opfile)\n",
        "if file[-3:] != \"wav\":\n",
        "    if not p.is_file():\n",
        "        cmd = f\"ffmpeg -i {file} -acodec pcm_s16le -ac 1 -ar 48000 {opfile} -y\"\n",
        "        process = subprocess.Popen(cmd.split(), stdout=subprocess.PIPE)\n",
        "        output, error = process.communicate()\n",
        "else:\n",
        "    opfile = file\n",
        "# file_name = os.path.basename(opfile)\n",
        "# emotion = emotions[file_name.split('-')[2]]\n",
        "x = [extract_feature(opfile, True, True, True)]\n",
        "print(model.predict(x), emotion)"
      ]
>>>>>>> 7d4baf6955a35fe8ee9ded699ec3e9dd29314c22
    }
   ],
   "source": [
    "loss_plot=model.loss_curve_\n",
    "plt.plot(loss_plot)\n",
    "plt.show()"
   ]
  }
 ],
 "metadata": {
  "colab": {
   "collapsed_sections": [],
   "name": "Speech Emotion Recognition Notebook.ipynb",
   "provenance": []
  },
  "kernelspec": {
   "display_name": "Python 3",
   "language": "python",
   "name": "python3"
  },
  "language_info": {
   "codemirror_mode": {
    "name": "ipython",
    "version": 3
   },
   "file_extension": ".py",
   "mimetype": "text/x-python",
   "name": "python",
   "nbconvert_exporter": "python",
   "pygments_lexer": "ipython3",
   "version": "3.8.10"
  }
 },
 "nbformat": 4,
 "nbformat_minor": 1
}
