{
  "cells": [
    {
      "cell_type": "code",
      "execution_count": 19,
      "metadata": {
        "colab": {},
        "colab_type": "code",
        "id": "kZTfgUu51RCX"
      },
      "outputs": [],
      "source": [
        "#Import All Important Libraries\n",
        "import librosa\n",
        "import soundfile\n",
        "import os, glob, pickle\n",
        "import numpy as np\n",
        "import matplotlib.pyplot as plt\n",
        "from sklearn.model_selection import train_test_split\n",
        "from sklearn.neural_network import MLPClassifier\n",
        "from sklearn.metrics import accuracy_score, confusion_matrix"
      ]
    },
    {
      "cell_type": "code",
      "execution_count": 20,
      "metadata": {
        "colab": {},
        "colab_type": "code",
        "id": "dvGpG07E_3Uo"
      },
      "outputs": [],
      "source": [
        "#function for extracting mfcc, chroma, and mel features from sound file\n",
        "def extract_feature(file_name, mfcc, chroma, mel):\n",
        "  with soundfile.SoundFile(file_name) as sound_file:\n",
        "    X = sound_file.read(dtype=\"float32\")\n",
        "    sample_rate=sound_file.samplerate\n",
        "    if chroma:\n",
        "      stft=np.abs(librosa.stft(X))\n",
        "    result=np.array([])\n",
        "    if mfcc:\n",
        "      mfccs=np.mean(librosa.feature.mfcc(y=X, sr=sample_rate, n_mfcc=40).T, axis=0)\n",
        "      result=np.hstack((result, mfccs))\n",
        "    if chroma:\n",
        "      chroma=np.mean(librosa.feature.chroma_stft(S=stft, sr=sample_rate).T,axis=0)\n",
        "      result=np.hstack((result, chroma))\n",
        "    if mel:\n",
        "      mel=np.mean(librosa.feature.melspectrogram(X, sr=sample_rate).T,axis=0)\n",
        "      result=np.hstack((result, mel))\n",
        "  return result"
      ]
    },
    {
      "cell_type": "code",
      "execution_count": 21,
      "metadata": {
        "colab": {},
        "colab_type": "code",
        "id": "p-UIAg03Xis1"
      },
      "outputs": [],
      "source": [
        "#Define the motions dictionary\n",
        "emotions = {\n",
        "    '01':'neutral',\n",
        "    '02':'calm',\n",
        "    '03':'happy',\n",
        "    '04':'sad',\n",
        "    '05':'angry',\n",
        "    '06':'fearful',\n",
        "    '07':'disgust',\n",
        "    '08':'surprised'\n",
        "}\n",
        "\n",
        "#Emotions we want to observe\n",
        "observed_emotions = ['calm', 'happy', 'fearful', 'disgust']"
      ]
    },
    {
      "cell_type": "code",
      "execution_count": 22,
      "metadata": {
        "colab": {},
        "colab_type": "code",
        "id": "154OQUcVZ4tt"
      },
      "outputs": [],
      "source": [
        "#Load the data and extract features for each sound file\n",
        "def load_data(test_size = 0.2):\n",
        "  x, y = [], []\n",
        "  print(0)\n",
        "  for folder in glob.glob('./Datasets/Actor_*'):\n",
        "    # print(0)\n",
        "    print(folder)\n",
        "    for file in glob.glob(folder + '/*.wav'):\n",
        "      file_name = os.path.basename(file)\n",
        "      emotion = emotions[file_name.split('-')[2]]\n",
        "      if emotion not in observed_emotions:\n",
        "        continue\n",
        "      feature = extract_feature(file, mfcc = True, chroma = True, mel = True)\n",
        "      x.append(feature)\n",
        "      y.append(emotion)\n",
        "  return train_test_split(np.array(x), y, test_size = test_size, random_state = 9)\n"
      ]
    },
    {
      "cell_type": "code",
      "execution_count": 23,
      "metadata": {
        "colab": {
          "base_uri": "https://localhost:8080/",
          "height": 425
        },
        "colab_type": "code",
        "id": "J2f0qX1PjBU0",
        "outputId": "ea97dc04-3154-479b-918f-51a83cbbf2f3"
      },
      "outputs": [
        {
          "name": "stdout",
          "output_type": "stream",
          "text": [
            "0\n",
            "./Datasets/Actor_15\n",
            "./Datasets/Actor_09\n",
            "./Datasets/Actor_02\n",
            "./Datasets/Actor_23\n",
            "./Datasets/Actor_08\n",
            "./Datasets/Actor_16\n",
            "./Datasets/Actor_04\n",
            "./Datasets/Actor_22\n",
            "./Datasets/Actor_12\n",
            "./Datasets/Actor_21\n",
            "./Datasets/Actor_03\n",
            "./Datasets/Actor_17\n",
            "./Datasets/Actor_24\n",
            "./Datasets/Actor_06\n",
            "./Datasets/Actor_11\n",
            "./Datasets/Actor_20\n",
            "./Datasets/Actor_13\n",
            "./Datasets/Actor_14\n",
            "./Datasets/Actor_10\n",
            "./Datasets/Actor_01\n",
            "./Datasets/Actor_19\n",
            "./Datasets/Actor_07\n",
            "./Datasets/Actor_05\n"
          ]
        }
      ],
      "source": [
        "x_train,x_test,y_train,y_test=load_data(test_size=0.2)"
      ]
    },
    {
      "cell_type": "code",
      "execution_count": 24,
      "metadata": {
        "colab": {
          "base_uri": "https://localhost:8080/",
          "height": 51
        },
        "colab_type": "code",
        "id": "HpN02uwkpekV",
        "outputId": "78905251-85ce-4d73-92aa-ce7e334840e3"
      },
      "outputs": [
        {
          "name": "stdout",
          "output_type": "stream",
          "text": [
            "(441, 111)\n",
            "Features extracted: 180\n"
          ]
        }
      ],
      "source": [
        "#Shape of train and test set and Number of features extracted\n",
        "print((x_train.shape[0], x_test.shape[0]))\n",
        "print(f'Features extracted: {x_train.shape[1]}')"
      ]
    },
    {
      "cell_type": "code",
      "execution_count": 25,
      "metadata": {
        "colab": {},
        "colab_type": "code",
        "id": "ZXwY7HVDuuTv"
      },
      "outputs": [],
      "source": [
        "#Initialise Multi Layer Perceptron Classifier\n",
        "model = MLPClassifier(alpha = 0.01, batch_size = 256, epsilon = 1e-08, hidden_layer_sizes = (1000,), learning_rate = 'adaptive', max_iter = 500)"
      ]
    },
    {
      "cell_type": "code",
      "execution_count": 26,
      "metadata": {
        "colab": {
          "base_uri": "https://localhost:8080/",
          "height": 153
        },
        "colab_type": "code",
        "id": "0_LKbQ3KvJy-",
        "outputId": "429e189c-625a-4187-d6e8-d729e85783ff"
      },
      "outputs": [],
      "source": [
        "history=model.fit(x_train, y_train)"
      ]
    },
    "colab_type": "code",
    "id": "J2f0qX1PjBU0",
    "outputId": "ea97dc04-3154-479b-918f-51a83cbbf2f3"
   },
   "outputs": [
    {
      "cell_type": "code",
      "execution_count": 27,
      "metadata": {},
      "outputs": [
        {
          "data": {
            "text/plain": [
              "MLPClassifier(alpha=0.01, batch_size=256, hidden_layer_sizes=(1000,),\n",
              "              learning_rate='adaptive', max_iter=500)"
            ]
          },
          "execution_count": 27,
          "metadata": {},
          "output_type": "execute_result"
        }
      ],
      "source": [
        "history"
      ]
    },
    "colab_type": "code",
    "id": "HpN02uwkpekV",
    "outputId": "78905251-85ce-4d73-92aa-ce7e334840e3"
   },
   "outputs": [
    {
      "cell_type": "code",
      "execution_count": 28,
      "metadata": {
        "colab": {},
        "colab_type": "code",
        "id": "glTuS50TwN0I"
      },
      "outputs": [],
      "source": [
        "#Predict for the test set\n",
        "y_pred = model.predict(x_test)"
      ]
    },
    "colab_type": "code",
    "id": "0_LKbQ3KvJy-",
    "outputId": "429e189c-625a-4187-d6e8-d729e85783ff"
   },
   "outputs": [],
   "source": [
    "history=model.fit(x_train, y_train)"
   ]
  },
  {
   "cell_type": "code",
   "execution_count": 11,
   "metadata": {},
   "outputs": [
    {
      "cell_type": "code",
      "execution_count": 29,
      "metadata": {
        "colab": {
          "base_uri": "https://localhost:8080/",
          "height": 34
        },
        "colab_type": "code",
        "id": "qqVnMdQmwUXG",
        "outputId": "20d90e48-b15b-47f3-ff7c-62151a3dff82"
      },
      "outputs": [
        {
          "name": "stdout",
          "output_type": "stream",
          "text": [
            "Accuracy: 98.20%\n"
          ]
        }
      ],
      "source": [
        "#Calculate Accuracy\n",
        "accuracy = accuracy_score(y_test, y_pred)\n",
        "print(\"Accuracy: {:.2f}%\".format(accuracy*100))"
      ]
    },
    {
      "cell_type": "code",
      "execution_count": 30,
      "metadata": {},
      "outputs": [
        {
          "data": {
            "image/png": "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",
            "text/plain": [
              "<Figure size 432x288 with 1 Axes>"
            ]
          },
          "metadata": {
            "needs_background": "light"
          },
          "output_type": "display_data"
        }
      ],
      "source": [
        "loss_plot=model.loss_curve_\n",
        "plt.plot(loss_plot)\n",
        "plt.show()"
      ]
    }
   ],
   "source": [
    "history"
   ]
  },
  {
   "cell_type": "code",
   "execution_count": 12,
   "metadata": {
    "colab": {},
    "colab_type": "code",
    "id": "glTuS50TwN0I"
   },
   "outputs": [],
   "source": [
    "#Predict for the test set\n",
    "y_pred = model.predict(x_test)"
   ]
  },
  {
   "cell_type": "code",
   "execution_count": 13,
   "metadata": {
    "colab": {
     "base_uri": "https://localhost:8080/",
     "height": 34
    },
    "colab_type": "code",
    "id": "qqVnMdQmwUXG",
    "outputId": "20d90e48-b15b-47f3-ff7c-62151a3dff82",
    "scrolled": true
   },
   "outputs": [
    {
     "name": "stdout",
     "output_type": "stream",
     "text": [
      "Accuracy: 96.40%\n"
     ]
    }
   ],
   "source": [
    "#Calculate Accuracy\n",
    "accuracy = accuracy_score(y_test, y_pred)\n",
    "print(\"Accuracy: {:.2f}%\".format(accuracy*100))"
   ]
  }
 ],
 "metadata": {
  "colab": {
   "collapsed_sections": [],
   "name": "Speech Emotion Recognition Notebook.ipynb",
   "provenance": []
  },
  "kernelspec": {
   "display_name": "Python 3",
   "language": "python",
   "name": "python3"
  },
  "language_info": {
   "codemirror_mode": {
    "name": "ipython",
    "version": 3
   },
   "file_extension": ".py",
   "mimetype": "text/x-python",
   "name": "python",
   "nbconvert_exporter": "python",
   "pygments_lexer": "ipython3",
   "version": "3.8.10"
  }
 },
 "nbformat": 4,
 "nbformat_minor": 1
}
