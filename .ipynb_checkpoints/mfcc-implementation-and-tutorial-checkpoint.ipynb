{
 "cells": [
  {
   "cell_type": "markdown",
   "metadata": {
    "_uuid": "46fb31415ad7a6e127db7c492d8f83aa09f36df0"
   },
   "source": [
    "# MFCC theory and implementation\n",
    "## Theory\n",
    "Mel Frequency Cepstral Coefficents (MFCCs) is a way of extracting features from an audio. The MFCC uses the MEL scale to divide the frequency band to sub-bands and then extracts the Cepstral Coefficents using Discrete Cosine Transform (DCT). MEL scale is based on the way humans distinguish between frequencies which makes it very convenient to process sounds.\n",
    "\n",
    "Lets first understand how humans perceive sounds.\n",
    "\n",
    "## Human voice sound perception\n",
    "Adult humans fundamental voice frequency range is between 85Hz to 255Hz (85Hz to 180Hz for male and 165Hz to 255Hz for female). On top of the fundamental frequency there are harmonics of fundamental frequencys. Harmonics are whole multiplications of the fundamental frequency. If for instance the fundamental frequency is 100Hz then its second harmonic will be 200Hz, third harmonic is 300Hz and so on.\n",
    "\n",
    "You can see an example in the image below [1] which shows frequency vs. time of several pronounced words and color represents frequency power at that point (yellow strongest and black weakest):\n",
    "<img src=\"https://static.scientificamerican.com/sciam/assets/media/sound/speechsep-audio/speechsep-2-spect.png\", width=600, height=200>\n",
    "\n",
    "Notice the first horizontal yellow line on the bottom of each segment. That is the fundamental frequency and its the strongest. Above that there are harmonics with the same frequncy distance from each other.\n",
    "\n",
    "Humans can hear roughly between 20Hz to 20KHz. The perception of sound is non-linear [2] and you can better distinguish between low frequency sounds than high frequency sounds e.g. humans can clearly hear the difference betwee 100Hz and 200Hz but not between 15kHz and 15.1kHz.\n",
    "\n",
    "You can try in usin a tone generator: http://www.szynalski.com/tone-generator/\n",
    "\n",
    "## MEL scale\n",
    "A MEL scale is a unit of PITCH proposed by Stevens, Volkmann and Newmann in 1937. The MEL scale is a scale of pitches judged by listeners to be equal in distance one from another [3] [4]. Because of how humans perceive sound the MEL scale is a non-lenear scale and the distances between the pitches increeses with frequency.\n",
    "\n",
    "# MFCC implementation [5] [6]\n",
    "## Sample signal\n",
    "First, lets load a sample audio and start working with it:"
   ]
  },
  {
   "cell_type": "code",
   "execution_count": 1,
   "metadata": {
    "_uuid": "265ea35ffa699b36b3d48285dbac2252a4105d8b"
   },
   "outputs": [],
   "source": [
    "import os\n",
    "import numpy as np\n",
    "import scipy\n",
    "from scipy.io import wavfile\n",
    "import scipy.fftpack as fft\n",
    "from scipy.signal import get_window\n",
    "import IPython.display as ipd\n",
    "import matplotlib.pyplot as plt\n",
    "\n",
    "%matplotlib inline"
   ]
  },
  {
   "cell_type": "code",
   "execution_count": 3,
   "metadata": {
    "_uuid": "2c524ec720963ad1211d718c5d22009118861227"
   },
   "outputs": [
    {
     "ename": "ValueError",
     "evalue": "rate must be specified when data is a numpy array or list of audio samples.",
     "output_type": "error",
     "traceback": [
      "\u001b[0;31m---------------------------------------------------------------------------\u001b[0m",
      "\u001b[0;31mValueError\u001b[0m                                Traceback (most recent call last)",
      "\u001b[0;32m<ipython-input-3-df69364715b3>\u001b[0m in \u001b[0;36m<module>\u001b[0;34m\u001b[0m\n\u001b[0;32m----> 1\u001b[0;31m \u001b[0mipd\u001b[0m\u001b[0;34m.\u001b[0m\u001b[0mAudio\u001b[0m\u001b[0;34m(\u001b[0m\u001b[0mTRAIN_PATH\u001b[0m \u001b[0;34m+\u001b[0m \u001b[0;34m\"download.wav\"\u001b[0m\u001b[0;34m)\u001b[0m\u001b[0;34m\u001b[0m\u001b[0;34m\u001b[0m\u001b[0m\n\u001b[0m",
      "\u001b[0;32m~/.local/lib/python3.8/site-packages/IPython/lib/display.py\u001b[0m in \u001b[0;36m__init__\u001b[0;34m(self, data, filename, url, embed, rate, autoplay, normalize, element_id)\u001b[0m\n\u001b[1;32m    112\u001b[0m         \u001b[0;32mif\u001b[0m \u001b[0mself\u001b[0m\u001b[0;34m.\u001b[0m\u001b[0mdata\u001b[0m \u001b[0;32mis\u001b[0m \u001b[0;32mnot\u001b[0m \u001b[0;32mNone\u001b[0m \u001b[0;32mand\u001b[0m \u001b[0;32mnot\u001b[0m \u001b[0misinstance\u001b[0m\u001b[0;34m(\u001b[0m\u001b[0mself\u001b[0m\u001b[0;34m.\u001b[0m\u001b[0mdata\u001b[0m\u001b[0;34m,\u001b[0m \u001b[0mbytes\u001b[0m\u001b[0;34m)\u001b[0m\u001b[0;34m:\u001b[0m\u001b[0;34m\u001b[0m\u001b[0;34m\u001b[0m\u001b[0m\n\u001b[1;32m    113\u001b[0m             \u001b[0;32mif\u001b[0m \u001b[0mrate\u001b[0m \u001b[0;32mis\u001b[0m \u001b[0;32mNone\u001b[0m\u001b[0;34m:\u001b[0m\u001b[0;34m\u001b[0m\u001b[0;34m\u001b[0m\u001b[0m\n\u001b[0;32m--> 114\u001b[0;31m                 \u001b[0;32mraise\u001b[0m \u001b[0mValueError\u001b[0m\u001b[0;34m(\u001b[0m\u001b[0;34m\"rate must be specified when data is a numpy array or list of audio samples.\"\u001b[0m\u001b[0;34m)\u001b[0m\u001b[0;34m\u001b[0m\u001b[0;34m\u001b[0m\u001b[0m\n\u001b[0m\u001b[1;32m    115\u001b[0m             \u001b[0mself\u001b[0m\u001b[0;34m.\u001b[0m\u001b[0mdata\u001b[0m \u001b[0;34m=\u001b[0m \u001b[0mAudio\u001b[0m\u001b[0;34m.\u001b[0m\u001b[0m_make_wav\u001b[0m\u001b[0;34m(\u001b[0m\u001b[0mdata\u001b[0m\u001b[0;34m,\u001b[0m \u001b[0mrate\u001b[0m\u001b[0;34m,\u001b[0m \u001b[0mnormalize\u001b[0m\u001b[0;34m)\u001b[0m\u001b[0;34m\u001b[0m\u001b[0;34m\u001b[0m\u001b[0m\n\u001b[1;32m    116\u001b[0m \u001b[0;34m\u001b[0m\u001b[0m\n",
      "\u001b[0;31mValueError\u001b[0m: rate must be specified when data is a numpy array or list of audio samples."
     ]
    }
   ],
   "source": [
    "ipd.Audio(\"download.wav\")"
   ]
  },
  {
   "cell_type": "code",
   "execution_count": 3,
   "metadata": {
    "_uuid": "ccce924fe90f42438b42af7e85bfb565bd4fdb68",
    "scrolled": true
   },
   "outputs": [],
   "source": [
    "sample_rate, audio = wavfile.read(TRAIN_PATH + \"a439d172.wav\")\n",
    "print(\"Sample rate: {0}Hz\".format(sample_rate))\n",
    "print(\"Audio duration: {0}s\".format(len(audio) / sample_rate))"
   ]
  },
  {
   "cell_type": "markdown",
   "metadata": {
    "_uuid": "908f0dafc0a97eeaf316114110be8117f450be80"
   },
   "source": [
    "Bonus: notice that the sample rate is 44.1kHz which is the standart sampling rate for audio files. This number is not a coincidence. Acording to Nyquist, that sampling rate of 44.1kHz give us band-width of 22.05kHz. The 0Hz to 22.05kHz zone is called the first Nyquist zone, 22.05kHz to 44.1kHz is the second Nyquist zone and so on. If there is a signal in the second Nyquist zone (lets say 22.1kHz) it will alias to the first Nyquist zone (22kHz in our case). We dont want this to happend so we add a low pass filter (LPF). All LPFs has a pass-band, stop-band and transition band. \n",
    "\n",
    "<img src=\"http://msp.ucsd.edu/techniques/v0.11/book-html/img855.png\", width=300, height=1>\n",
    "\n",
    "The sampling frequency of 44.1kHz was chose so that the transition band will be from 20kHz (pass-band) to 22.05kHz (stop-band). It is important to have at least half of the transition band inside the first Nyquist zone because there is stil not enought attenuetion in the filter in this part so there might be aliases from the second Nyquist zone."
   ]
  },
  {
   "cell_type": "code",
   "execution_count": 4,
   "metadata": {
    "_uuid": "f87913757aececb21ffce800819ed1cfc540a4b9",
    "collapsed": true
   },
   "outputs": [],
   "source": [
    "def normalize_audio(audio):\n",
    "    audio = audio / np.max(np.abs(audio))\n",
    "    return audio"
   ]
  },
  {
   "cell_type": "code",
   "execution_count": 5,
   "metadata": {
    "_uuid": "c092ece73d5c6ea813da2be9c25587367511c848"
   },
   "outputs": [],
   "source": [
    "audio = normalize_audio(audio)\n",
    "plt.figure(figsize=(15,4))\n",
    "plt.plot(np.linspace(0, len(audio) / sample_rate, num=len(audio)), audio)\n",
    "plt.grid(True)"
   ]
  },
  {
   "cell_type": "markdown",
   "metadata": {
    "_uuid": "bb9b46d7d991b27137d71f9baa588021b1216f1d"
   },
   "source": [
    "There is a lot going on here. It sounds that we should get high and low fundamental frequencies.\n",
    "\n",
    "## Audio Framing\n",
    "Because audio is a non stationary process, the FFT will produce distortions. To overcome this we can assume that the audio is a stationary process for a short periods of time. Because of that we devide the signal into short frames. Each audio frame will be the same size as the FFT. Also we want the frames to overlap. We do that so that the frames will have some correlation between them and because we loose the information on the edges of each frame after applying a window function."
   ]
  },
  {
   "cell_type": "code",
   "execution_count": 6,
   "metadata": {
    "_uuid": "ec1bd4c543c7804af7cc521abaf9367de1b6123d",
    "collapsed": true
   },
   "outputs": [],
   "source": [
    "def frame_audio(audio, FFT_size=2048, hop_size=10, sample_rate=44100):\n",
    "    # hop_size in ms\n",
    "    \n",
    "    audio = np.pad(audio, int(FFT_size / 2), mode='reflect')\n",
    "    frame_len = np.round(sample_rate * hop_size / 1000).astype(int)\n",
    "    frame_num = int((len(audio) - FFT_size) / frame_len) + 1\n",
    "    frames = np.zeros((frame_num,FFT_size))\n",
    "    \n",
    "    for n in range(frame_num):\n",
    "        frames[n] = audio[n*frame_len:n*frame_len+FFT_size]\n",
    "    \n",
    "    return frames"
   ]
  },
  {
   "cell_type": "code",
   "execution_count": 7,
   "metadata": {
    "_uuid": "22fd3b5e9fa5f73e2d0397113427bd63e95e5b38"
   },
   "outputs": [],
   "source": [
    "hop_size = 15 #ms\n",
    "FFT_size = 2048\n",
    "\n",
    "audio_framed = frame_audio(audio, FFT_size=FFT_size, hop_size=hop_size, sample_rate=sample_rate)\n",
    "print(\"Framed audio shape: {0}\".format(audio_framed.shape))"
   ]
  },
  {
   "cell_type": "markdown",
   "metadata": {
    "_uuid": "a9f64c8ee763755415a9ca457b47126f084bdb01"
   },
   "source": [
    "Now we have framed audio matrix with the size of frame number X FFT size."
   ]
  },
  {
   "cell_type": "code",
   "execution_count": 8,
   "metadata": {
    "_uuid": "290cfbac28290dcb4328596d01420f408d49f3b5"
   },
   "outputs": [],
   "source": [
    "print(\"First frame:\")\n",
    "audio_framed[1]"
   ]
  },
  {
   "cell_type": "code",
   "execution_count": 9,
   "metadata": {
    "_uuid": "17fee4e025356d8abef2716d6de6cded4da1d4f6"
   },
   "outputs": [],
   "source": [
    "print(\"Last frame:\")\n",
    "audio_framed[-1]"
   ]
  },
  {
   "cell_type": "markdown",
   "metadata": {
    "_uuid": "ef244ecbfc35ba6663ad6351df5bdc32f72b4ba8"
   },
   "source": [
    "## Convert to frequency domain\n",
    "Now we will convert the audio, which is currently in the time domain, to frequency domain. The FFT assumes the audio to be periodic and continues. By framing the signal we assured the audio to be periodic. To make the audio continues, we apply a window function on every frame. If we wont do that, We will get high frequency distortions. To overcome this, we first need to apply a window function to the framed audio and then perforn FFT. The window assures that both ends of the signal will end close to zero.\n",
    "\n",
    "Choosing the correct window is hard and takes time. For simplicity we will choose the Hanning window. [7]"
   ]
  },
  {
   "cell_type": "code",
   "execution_count": 10,
   "metadata": {
    "_uuid": "01c357919aecce72f044a33642919f0e82cc3472",
    "scrolled": false
   },
   "outputs": [],
   "source": [
    "window = get_window(\"hann\", FFT_size, fftbins=True)\n",
    "plt.figure(figsize=(15,4))\n",
    "plt.plot(window)\n",
    "plt.grid(True)"
   ]
  },
  {
   "cell_type": "code",
   "execution_count": 11,
   "metadata": {
    "_uuid": "0d6246bd51eda844c09ff8ce84e737e5d3a16798"
   },
   "outputs": [],
   "source": [
    "audio_win = audio_framed * window\n",
    "\n",
    "ind = 69\n",
    "plt.figure(figsize=(15,6))\n",
    "plt.subplot(2, 1, 1)\n",
    "plt.plot(audio_framed[ind])\n",
    "plt.title('Original Frame')\n",
    "plt.grid(True)\n",
    "plt.subplot(2, 1, 2)\n",
    "plt.plot(audio_win[ind])\n",
    "plt.title('Frame After Windowing')\n",
    "plt.grid(True)"
   ]
  },
  {
   "cell_type": "markdown",
   "metadata": {
    "_uuid": "f72eb5494af685ff815bcbbbca4ebc4bb7ab888a"
   },
   "source": [
    "In the plot above you can see the that both ends of the frame end on different places on the y axis. You can see that the window brought the edges of each frame closer to zero.\n",
    "\n",
    "Now lets perform the FFT. After we do the FFT we only take the the positive part of the spectrum (first half +1)."
   ]
  },
  {
   "cell_type": "code",
   "execution_count": 12,
   "metadata": {
    "_uuid": "cdd48b0740750a1fb7e3ad4b0e6d6a12376af7af",
    "collapsed": true
   },
   "outputs": [],
   "source": [
    "audio_winT = np.transpose(audio_win)\n",
    "\n",
    "audio_fft = np.empty((int(1 + FFT_size // 2), audio_winT.shape[1]), dtype=np.complex64, order='F')\n",
    "\n",
    "for n in range(audio_fft.shape[1]):\n",
    "    audio_fft[:, n] = fft.fft(audio_winT[:, n], axis=0)[:audio_fft.shape[0]]\n",
    "\n",
    "audio_fft = np.transpose(audio_fft)"
   ]
  },
  {
   "cell_type": "markdown",
   "metadata": {
    "_uuid": "5792ff5df17edf610ca9202f32756ac6ddcd8f95"
   },
   "source": [
    "## Calculate signal power"
   ]
  },
  {
   "cell_type": "code",
   "execution_count": 13,
   "metadata": {
    "_uuid": "335f0ad7bcfda186226e8f6c75ceda6d772eed80"
   },
   "outputs": [],
   "source": [
    "audio_power = np.square(np.abs(audio_fft))\n",
    "print(audio_power.shape)"
   ]
  },
  {
   "cell_type": "markdown",
   "metadata": {
    "_uuid": "015b58c2bee93ebbd3019c94b96dc14aafb89b91"
   },
   "source": [
    "## MEL-spaced filterbank\n",
    "Here we compute the MEL-spaced filterbank and then pass the framed audio through them. That will give us information about the power in each frequency band. The filters can be constructed for any frequency band but for our example we will look on the entire sampled band.\n",
    "\n",
    "What spessial with the MEL-spaced filterbank is the spacing between the filters which grows exponentially with frequency. The filterbank can be made for any frequency band. Here we will compute the filterbank for the entire frequency band."
   ]
  },
  {
   "cell_type": "code",
   "execution_count": 14,
   "metadata": {
    "_uuid": "f6b00a2f0e076aac70927e4f5fd29351fb880765",
    "scrolled": false
   },
   "outputs": [],
   "source": [
    "freq_min = 0\n",
    "freq_high = sample_rate / 2\n",
    "mel_filter_num = 10\n",
    "\n",
    "print(\"Minimum frequency: {0}\".format(freq_min))\n",
    "print(\"Maximum frequency: {0}\".format(freq_high))"
   ]
  },
  {
   "cell_type": "markdown",
   "metadata": {
    "_uuid": "47041d7793a07722635ff3156e09afd1048fad23"
   },
   "source": [
    "### Compute filter points\n",
    "First we construct filter points that determines the start and stop of the filters. To do that we first convert the two filterbank edges to the MEL space. After that we construct a lineary spaced array between the two MEL frequencies. Then we convert the array to the frequency space and finally we normalize the array to the FFT size and choose the associated FFT values.\n",
    "\n",
    "This process is shown in the picture below:\n",
    "\n",
    "<a href=\"https://ibb.co/kCsp4H\"><img src=\"https://preview.ibb.co/hrFnrx/MEL.png\" alt=\"MEL\" border=\"0\" /></a>"
   ]
  },
  {
   "cell_type": "code",
   "execution_count": 15,
   "metadata": {
    "_uuid": "5f79d33c60215b10595551fa7bcfbc55756cef93",
    "collapsed": true
   },
   "outputs": [],
   "source": [
    "def freq_to_mel(freq):\n",
    "    return 2595.0 * np.log10(1.0 + freq / 700.0)\n",
    "\n",
    "def met_to_freq(mels):\n",
    "    return 700.0 * (10.0**(mels / 2595.0) - 1.0)"
   ]
  },
  {
   "cell_type": "code",
   "execution_count": 16,
   "metadata": {
    "_uuid": "becc27ae214d78cd735f117afe0f94156d6c3040",
    "collapsed": true
   },
   "outputs": [],
   "source": [
    "def get_filter_points(fmin, fmax, mel_filter_num, FFT_size, sample_rate=44100):\n",
    "    fmin_mel = freq_to_mel(fmin)\n",
    "    fmax_mel = freq_to_mel(fmax)\n",
    "    \n",
    "    print(\"MEL min: {0}\".format(fmin_mel))\n",
    "    print(\"MEL max: {0}\".format(fmax_mel))\n",
    "    \n",
    "    mels = np.linspace(fmin_mel, fmax_mel, num=mel_filter_num+2)\n",
    "    freqs = met_to_freq(mels)\n",
    "    \n",
    "    return np.floor((FFT_size + 1) / sample_rate * freqs).astype(int), freqs"
   ]
  },
  {
   "cell_type": "code",
   "execution_count": 17,
   "metadata": {
    "_uuid": "e938fdbb3f25dacf5184dc0c70712d4bdec789b2"
   },
   "outputs": [],
   "source": [
    "filter_points, mel_freqs = get_filter_points(freq_min, freq_high, mel_filter_num, FFT_size, sample_rate=44100)\n",
    "filter_points"
   ]
  },
  {
   "cell_type": "markdown",
   "metadata": {
    "_uuid": "2d0d257a44b0b1124cc127fbafca8845d6dd8f11"
   },
   "source": [
    "### Construct the filterbank\n",
    "After we have the filter points, we construct the filters."
   ]
  },
  {
   "cell_type": "code",
   "execution_count": 18,
   "metadata": {
    "_uuid": "3778aa6f60d41ab06e5543438a86fc5991ae862e",
    "collapsed": true
   },
   "outputs": [],
   "source": [
    "def get_filters(filter_points, FFT_size):\n",
    "    filters = np.zeros((len(filter_points)-2,int(FFT_size/2+1)))\n",
    "    \n",
    "    for n in range(len(filter_points)-2):\n",
    "        filters[n, filter_points[n] : filter_points[n + 1]] = np.linspace(0, 1, filter_points[n + 1] - filter_points[n])\n",
    "        filters[n, filter_points[n + 1] : filter_points[n + 2]] = np.linspace(1, 0, filter_points[n + 2] - filter_points[n + 1])\n",
    "    \n",
    "    return filters"
   ]
  },
  {
   "cell_type": "code",
   "execution_count": 19,
   "metadata": {
    "_uuid": "8ab07b515e40a921a6ad25baa2a2c9d84bbcfec4",
    "scrolled": true
   },
   "outputs": [],
   "source": [
    "filters = get_filters(filter_points, FFT_size)\n",
    "\n",
    "plt.figure(figsize=(15,4))\n",
    "for n in range(filters.shape[0]):\n",
    "    plt.plot(filters[n])"
   ]
  },
  {
   "cell_type": "markdown",
   "metadata": {
    "_uuid": "d0ef49baf0720f809ee8779a4204fc98a81e95e1"
   },
   "source": [
    "Next we divide the triangular MEL weights by the width of the MEL band (area normalization). If we wont normalize the filters, we will see the noise increase with frequency because of the filter width."
   ]
  },
  {
   "cell_type": "code",
   "execution_count": 20,
   "metadata": {
    "_uuid": "9ab1e3a4ec66858adc0e9f39492f3769593b2b93",
    "collapsed": true
   },
   "outputs": [],
   "source": [
    "# taken from the librosa library\n",
    "enorm = 2.0 / (mel_freqs[2:mel_filter_num+2] - mel_freqs[:mel_filter_num])\n",
    "filters *= enorm[:, np.newaxis]"
   ]
  },
  {
   "cell_type": "code",
   "execution_count": 21,
   "metadata": {
    "_uuid": "71ff5a043750f8980d0ac82e83d77a98614b952a"
   },
   "outputs": [],
   "source": [
    "plt.figure(figsize=(15,4))\n",
    "for n in range(filters.shape[0]):\n",
    "    plt.plot(filters[n])"
   ]
  },
  {
   "cell_type": "markdown",
   "metadata": {
    "_uuid": "e4f9e2d1644a9fdd91ce845023ade1f82e15036c"
   },
   "source": [
    "## Filter the signal"
   ]
  },
  {
   "cell_type": "code",
   "execution_count": 22,
   "metadata": {
    "_uuid": "7bfd14b81e0f08dcdf93a54055d69423da44077c"
   },
   "outputs": [],
   "source": [
    "audio_filtered = np.dot(filters, np.transpose(audio_power))\n",
    "audio_log = 10.0 * np.log10(audio_filtered)\n",
    "audio_log.shape"
   ]
  },
  {
   "cell_type": "markdown",
   "metadata": {
    "_uuid": "132e1d555158174fb13b9c81b8b67109c6cf49f4"
   },
   "source": [
    "Now we have a matrix represemting the audio power in all 10 filters in different time frames.\n",
    "## Generate the Cepstral Coefficents\n",
    "The final step in generating the MFCC is to use the Discrete Cosine Transform (DCT). We will use the DCT-III. This type of DCT will extract high frequency and low frequency changes in the the signal [8] [9]."
   ]
  },
  {
   "cell_type": "code",
   "execution_count": 23,
   "metadata": {
    "_uuid": "a7f4a7beeccc3e351adc51525ef680a6d27b6333",
    "collapsed": true
   },
   "outputs": [],
   "source": [
    "def dct(dct_filter_num, filter_len):\n",
    "    basis = np.empty((dct_filter_num,filter_len))\n",
    "    basis[0, :] = 1.0 / np.sqrt(filter_len)\n",
    "    \n",
    "    samples = np.arange(1, 2 * filter_len, 2) * np.pi / (2.0 * filter_len)\n",
    "\n",
    "    for i in range(1, dct_filter_num):\n",
    "        basis[i, :] = np.cos(i * samples) * np.sqrt(2.0 / filter_len)\n",
    "        \n",
    "    return basis"
   ]
  },
  {
   "cell_type": "code",
   "execution_count": 24,
   "metadata": {
    "_uuid": "0434bd360d3fb4025419aba2c0991888c8181866"
   },
   "outputs": [],
   "source": [
    "dct_filter_num = 40\n",
    "\n",
    "dct_filters = dct(dct_filter_num, mel_filter_num)\n",
    "\n",
    "cepstral_coefficents = np.dot(dct_filters, audio_log)\n",
    "cepstral_coefficents.shape"
   ]
  },
  {
   "cell_type": "markdown",
   "metadata": {
    "_uuid": "fe93bf1b95dc30eca1df14f00927b6508b7774f7"
   },
   "source": [
    "## Reviewing Cepstral coefficents"
   ]
  },
  {
   "cell_type": "code",
   "execution_count": 25,
   "metadata": {
    "_uuid": "7b2e2b506f50dd707b2a999fb0280e077d4b0631",
    "scrolled": false
   },
   "outputs": [],
   "source": [
    "cepstral_coefficents[:, 0]"
   ]
  },
  {
   "cell_type": "code",
   "execution_count": 26,
   "metadata": {
    "_uuid": "13eceedda6bb56340ed0a1f63bf9ebfa997adb65"
   },
   "outputs": [],
   "source": [
    "plt.figure(figsize=(15,5))\n",
    "plt.plot(np.linspace(0, len(audio) / sample_rate, num=len(audio)), audio)\n",
    "plt.imshow(cepstral_coefficents, aspect='auto', origin='lower');"
   ]
  },
  {
   "cell_type": "markdown",
   "metadata": {
    "_uuid": "a591ccc90524eaea17dd272dc3cd9e1b91a89716"
   },
   "source": [
    "# Conclution\n",
    "The MFCC is a good algorithm to extract high frequency and low frequency information. There are many parts that can be changed depending on the application. One thing that we might want to check is how the power is scattered across frequency band and choosing the filter amount based on that.\n",
    "\n",
    "# Bibliography\n",
    "[1] https://en.wikipedia.org/wiki/Voice_frequency\n",
    "\n",
    "[2] https://en.wikipedia.org/wiki/Hearing_range\n",
    "\n",
    "[3] https://www.sfu.ca/sonic-studio/handbook/Mel.html\n",
    "\n",
    "[4] https://en.wikipedia.org/wiki/Mel_scale\n",
    "\n",
    "[5] http://practicalcryptography.com/miscellaneous/machine-learning/guide-mel-frequency-cepstral-coefficients-mfccs/\n",
    "\n",
    "[6] https://librosa.github.io/librosa/\n",
    "\n",
    "[7] https://en.wikipedia.org/wiki/Window_function#Hamming_window\n",
    "\n",
    "[8] https://www.youtube.com/watch?v=Q2aEzeMDHMA\n",
    "\n",
    "[9] https://en.wikipedia.org/wiki/Discrete_cosine_transform"
   ]
  }
 ],
 "metadata": {
  "kernelspec": {
   "display_name": "Python 3",
   "language": "python",
   "name": "python3"
  },
  "language_info": {
   "codemirror_mode": {
    "name": "ipython",
    "version": 3
   },
   "file_extension": ".py",
   "mimetype": "text/x-python",
   "name": "python",
   "nbconvert_exporter": "python",
   "pygments_lexer": "ipython3",
   "version": "3.8.10"
  }
 },
 "nbformat": 4,
 "nbformat_minor": 1
}
