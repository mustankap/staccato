{
  "cells": [
    {
      "cell_type": "code",
      "execution_count": 22,
      "metadata": {
        "colab": {},
        "colab_type": "code",
        "id": "kZTfgUu51RCX"
      },
      "outputs": [],
      "source": [
        "#Import All Important Libraries\n",
        "import librosa\n",
        "from pydub import AudioSegment\n",
        "import subprocess\n",
        "import soundfile\n",
        "import os, glob, pickle\n",
        "import numpy as np\n",
        "import matplotlib.pyplot as plt\n",
        "from sklearn.model_selection import train_test_split\n",
        "from sklearn.neural_network import MLPClassifier\n",
        "from sklearn.metrics import accuracy_score, confusion_matrix"
      ]
    },
    {
      "cell_type": "code",
      "execution_count": 23,
      "metadata": {
        "colab": {},
        "colab_type": "code",
        "id": "dvGpG07E_3Uo"
      },
      "outputs": [],
      "source": [
        "#function for extracting mfcc, chroma, and mel features from sound file\n",
        "def extract_feature(file_name, mfcc, chroma, mel):\n",
        "    result=np.array([])\n",
        "    with soundfile.SoundFile(file_name) as sound_file:\n",
        "        X = sound_file.read(dtype=\"float32\")\n",
        "        sample_rate=sound_file.samplerate\n",
        "        \n",
        "        if chroma:\n",
        "            stft = np.abs(librosa.stft(X))\n",
        "        result = np.array([])\n",
        "        if mfcc:\n",
        "            # X = Xx.copy()\n",
        "            mfccs=np.mean(librosa.feature.mfcc(y=X, sr=sample_rate, n_mfcc=40).T, axis=0)\n",
        "            result=np.hstack((result, mfccs))\n",
        "        if chroma:\n",
        "            # X = Xx.copy()\n",
        "            # stft=np.abs(librosa.stft(X))\n",
        "            chroma=np.mean(librosa.feature.chroma_stft(S=stft, sr=sample_rate).T,axis=0)\n",
        "            result=np.hstack((result, chroma))\n",
        "        # if chroma:\n",
        "        if mel:\n",
        "            # X = Xx.copy()\n",
        "            mel=np.mean(librosa.feature.melspectrogram(X, sr=sample_rate).T,axis=0)\n",
        "            result=np.hstack((result, mel))\n",
        "    return result"
      ]
    },
    {
      "cell_type": "code",
      "execution_count": 187,
      "metadata": {
        "colab": {},
        "colab_type": "code",
        "id": "p-UIAg03Xis1"
      },
      "outputs": [],
      "source": [
        "#Define the motions dictionary\n",
        "emotions = {\n",
        "    '01':'neutral',\n",
        "    '02':'calm',\n",
        "    '03':'happy',\n",
        "    '04':'sad',\n",
        "    '05':'angry',\n",
        "    '06':'fearful',\n",
        "    '07':'disgust',\n",
        "    '08':'surprised'\n",
        "}\n",
        "\n",
        "#Emotions we want to observe\n",
        "f = ['angry', 'sad', 'neutral', 'happy', 'excited']\n",
        "s= ['anxious', 'apologetic', \"pensive\", 'worried', 'enthusiastic']\n",
        "observed_emotions = s"
      ]
    },
    {
      "cell_type": "code",
      "execution_count": 188,
      "metadata": {
        "colab": {},
        "colab_type": "code",
        "id": "154OQUcVZ4tt"
      },
      "outputs": [],
      "source": [
        "#Load the data and extract features for each sound file\n",
        "def load_data(test_size = 0.2):\n",
        "    x, y = [], []\n",
        "    for file in glob.glob('./Datasets/JL Corpus/*.wav'):\n",
        "        # print(file)\n",
        "        file_name=os.path.basename(file)\n",
        "        #converting stereo audio to mono\n",
        "        sound = AudioSegment.from_wav(file)\n",
        "        sound = sound.set_channels(1)\n",
        "        sound.export(file, format=\"wav\")\n",
        "        emotion=file_name.split(\" \")[-2]\n",
        "        # print('emotion=',emotion)\n",
        "\n",
        "        if emotion not in observed_emotions:\n",
        "            continue\n",
        "        feature = extract_feature(file, mfcc = True, chroma = True, mel = True)\n",
        "        x.append(feature)\n",
        "        y.append(emotion)\n",
        "    # for file in glob.glob('./Datasets/Emov-DB/*.wav'):\n",
        "    #     print(file)\n",
        "    #     file_name=os.path.basename(file)\n",
        "    #     #converting stereo audio to mono\n",
        "    #     sound = AudioSegment.from_wav(file)\n",
        "    #     # sound = sound.set_channels(1)\n",
        "    #     # sound.export(file, format=\"wav\")\n",
        "    #     emotion=file_name.split(\" \")[-2]\n",
        "    #     print('emotion=',emotion)\n",
        "\n",
        "    #     # if emotion not in observed_emotions:\n",
        "    #     #     continue\n",
        "    #     feature = extract_feature(file, mfcc = True, chroma = True, mel = True)\n",
        "    #     x.append(feature)\n",
        "    #     y.append(emotion)\n",
        "    return train_test_split(np.array(x), y, test_size = test_size, random_state = 9)"
      ]
    },
    {
      "cell_type": "code",
      "execution_count": 196,
      "metadata": {
        "colab": {
          "base_uri": "https://localhost:8080/",
          "height": 425
        },
        "colab_type": "code",
        "id": "J2f0qX1PjBU0",
        "outputId": "ea97dc04-3154-479b-918f-51a83cbbf2f3"
      },
      "outputs": [
        {
          "name": "stdout",
          "output_type": "stream",
          "text": [
            "(288, 192)\n",
            "Features extracted: 180\n"
          ]
        }
      ],
      "source": [
        "x_train,x_test,y_train,y_test=load_data(test_size=0.4)\n",
        "# Shape of train and test set and Number of features extracted\n",
        "print((x_train.shape[0], x_test.shape[0]))\n",
        "print(f'Features extracted: {x_train.shape[1]}')"
      ]
    },
    {
      "cell_type": "code",
      "execution_count": 197,
      "metadata": {
        "colab": {},
        "colab_type": "code",
        "id": "ZXwY7HVDuuTv"
      },
      "outputs": [],
      "source": [
        "#Initialise Multi Layer Perceptron Classifier\n",
        "model = MLPClassifier(alpha = 0.01, batch_size = 256, epsilon = 1e-08, hidden_layer_sizes = (1000,), learning_rate = 'adaptive', max_iter = 500)"
      ]
    },
    {
      "cell_type": "code",
      "execution_count": 198,
      "metadata": {
        "colab": {
          "base_uri": "https://localhost:8080/",
          "height": 153
        },
        "colab_type": "code",
        "id": "0_LKbQ3KvJy-",
        "outputId": "429e189c-625a-4187-d6e8-d729e85783ff"
      },
      "outputs": [],
      "source": [
        "history=model.fit(x_train, y_train)"
      ]
    },
    {
      "cell_type": "code",
      "execution_count": 199,
      "metadata": {},
      "outputs": [
        {
          "data": {
            "text/plain": [
              "MLPClassifier(alpha=0.01, batch_size=256, hidden_layer_sizes=(1000,),\n",
              "              learning_rate='adaptive', max_iter=500)"
            ]
          },
          "execution_count": 199,
          "metadata": {},
          "output_type": "execute_result"
        }
      ],
      "source": [
        "history"
      ]
    },
    {
      "cell_type": "code",
      "execution_count": 200,
      "metadata": {
        "colab": {},
        "colab_type": "code",
        "id": "glTuS50TwN0I"
      },
      "outputs": [],
      "source": [
        "#Predict for the test set••••••••••\n",
        "y_pred = model.predict(x_test)"
      ]
    },
    {
      "cell_type": "code",
      "execution_count": 201,
      "metadata": {
        "colab": {
          "base_uri": "https://localhost:8080/",
          "height": 34
        },
        "colab_type": "code",
        "id": "qqVnMdQmwUXG",
        "outputId": "20d90e48-b15b-47f3-ff7c-62151a3dff82"
      },
      "outputs": [
        {
          "name": "stdout",
          "output_type": "stream",
          "text": [
            "Accuracy: 97.92%\n"
          ]
        }
      ],
      "source": [
        "#Calculate Accuracy\n",
        "accuracy = accuracy_score(y_test, y_pred)\n",
        "print(\"Accuracy: {:.2f}%\".format(accuracy*100))"
      ]
    },
    {
      "cell_type": "code",
      "execution_count": 202,
      "metadata": {},
      "outputs": [
        {
          "data": {
            "image/png": "[encoded data removed]",
            "text/plain": [
              "<Figure size 432x288 with 1 Axes>"
            ]
          },
          "metadata": {
            "needs_background": "light"
          },
          "output_type": "display_data"
        }
      ],
      "source": [
        "loss_plot=model.loss_curve_\n",
        "plt.plot(loss_plot)\n",
        "plt.show()"
      ]
    },
    {
      "cell_type": "code",
      "execution_count": null,
      "metadata": {},
      "outputs": [],
      "source": []
    }
  ],
  "metadata": {
    "colab": {
      "collapsed_sections": [],
      "name": "Speech Emotion Recognition Notebook.ipynb",
      "provenance": []
    },
    "kernelspec": {
      "display_name": "Python 3",
      "name": "python3"
    },
    "language_info": {
      "codemirror_mode": {
        "name": "ipython",
        "version": 3
      },
      "file_extension": ".py",
      "mimetype": "text/x-python",
      "name": "python",
      "nbconvert_exporter": "python",
      "pygments_lexer": "ipython3",
      "version": "3.9.7"
    }
  },
  "nbformat": 4,
  "nbformat_minor": 0
}
