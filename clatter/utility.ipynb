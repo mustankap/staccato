{
 "cells": [
  {
   "cell_type": "code",
   "execution_count": 2,
   "metadata": {},
   "outputs": [],
   "source": [
    "#Import All Important Libraries\n",
    "# import librosa\n",
    "# from pydub import AudioSegment\n",
    "import subprocess\n",
    "import collections as coll\n",
    "# import soundfile\n",
    "import pandas as pd\n",
    "import os, glob#, pickle\n",
    "# import numpy as np\n",
    "# import soundfile\n",
    "import os, glob#, pickle\n",
    "from collections import defaultdict\n",
    "# import numpy as np\n",
    "# import matplotlib.pyplot as plt\n",
    "# from sklearn.model_selection import train_test_split\n",
    "# from sklearn.neural_network import MLPClassifier\n",
    "# from sklearn.metrics import accuracy_score, confusion_matrix"
   ]
  },
  {
   "cell_type": "code",
   "execution_count": 4,
   "metadata": {},
   "outputs": [],
   "source": [
    "d_wav=coll.defaultdict(int)\n",
    "d_txt=coll.defaultdict(int)\n",
    "m = './Datasets/'\n",
    "folder = m+\"JL Corpus\"\n",
    "for count, filename in enumerate(os.listdir(folder)):\n",
    "    s = filename.split('_') \n",
    "    if filename[-3:]=='wav':\n",
    "       dst = f\"{s[1]} {str(d_wav[s[1]])}.wav\"\n",
    "       d_wav[s[1]]+=1\n",
    "    else:\n",
    "        dst = f\"{s[1]} {str(d_txt[s[1]])}.txt\"\n",
    "        d_txt[s[1]]+=1\n",
    "    \n",
    "    src =f\"{folder}/{filename}\"  # foldername/filename, if .py file is outside folder\n",
    "    dst =f\"{folder}/{dst}\"\n",
    "    # print(src,dst)\n",
    "    os.rename(src, dst)"
   ]
  },
  {
   "cell_type": "code",
   "execution_count": null,
   "metadata": {},
   "outputs": [],
   "source": [
    "# Convert to WAV\n",
    "target = \"rv1\"\n",
    "for folder in glob.glob(f'./datasets/{target}/*'):\n",
    "    print(folder)\n",
    "    for file in glob.glob(folder + '/*.wav'):\n",
    "            # print(file)\n",
    "        file_name = os.path.basename(file)\n",
    "        # opfile = \"./test/test_anger_4.wav\"\n",
    "        # if file[-3:] != \"wav\":\n",
    "        cmd = f\"ffmpeg -i {file_name} -acodec pcm_s16le -ac 1 -ar 48000 {file_name} -y\" # convert to wav\n",
    "        cmd = f\"ffmpeg -i {file_name} -ac 1 {file_name} -y\" # convert wav to monophonic\n",
    "        process = subprocess.Popen(cmd.split(), stdout=subprocess.PIPE)\n",
    "        output, error = process.communicate()\n",
    "        # else:\n",
    "        #     file_name = file\n",
    "        # file_name = os.path.basename(file_name)"
   ]
  },
  {
   "cell_type": "code",
   "execution_count": null,
   "metadata": {},
   "outputs": [],
   "source": [
    "# Copy files\n",
    "source = \"ravdess\"\n",
    "dest = \"./datasets/ravdess/\"\n",
    "for folder in glob.glob(f'./datasets/{source}/*'):\n",
    "    print(folder)\n",
    "    for file in glob.glob(folder + '/*.wav'):\n",
    "        file_name = os.path.basename(file)\n",
    "        cmd = f\"cp -lr {file} {dest}\" # convert wav to monophonic\n",
    "        process = subprocess.Popen(cmd.split(), stdout=subprocess.PIPE)\n",
    "        output, error = process.communicate()\n",
    "        # else:\n",
    "        #     file_name = file\n",
    "        # file_name = os.path.basename(file_name)"
   ]
  },
  {
   "cell_type": "code",
   "execution_count": null,
   "metadata": {},
   "outputs": [],
   "source": [
    "df = pd.read_csv('./datasets_og/meld/train/train_sent_emo.csv')\n",
    "emodict = {}\n",
    "filelist = coll.defaultdict(int)\n",
    "namedict = {'neutral': 0, 'surprise': 0, 'fear': 0, 'sad': 0, 'happy': 0, 'disgust': 0, 'anger': 0}\n",
    "for i, r in df.iterrows():\n",
    "    emodict[(r['Dialogue_ID'], r['Utterance_ID'])] = (r['Emotion'], r['Sentiment'])\n",
    "# print(emodict)\n",
    "print(len(emodict))\n",
    "for file in glob.glob(\"./datasets/meld/*.wav\"):\n",
    "    filelist[os.path.basename(file)] = 1\n",
    "print(len(filelist))\n",
    "for file in glob.glob(\"./datasets_og/meld/train/train_splits/*.mp4\"):\n",
    "    file_name = os.path.basename(file)\n",
    "    # print(file_name[:-4])\n",
    "    i, j = file_name[:-4].split(\"_\")\n",
    "    # print(i, j)\n",
    "    i, j = emodict[(int(i[3:]), int(j[3:]))]\n",
    "    if i == 'sadness':\n",
    "        i = 'sad'\n",
    "    elif i == 'joy':\n",
    "        i = 'happy'\n",
    "    # print(i, j)\n",
    "    out_name = f\"{i}_{j}_{namedict[i]}.wav\"\n",
    "    if out_name in filelist:\n",
    "        # print(out_name[:-4])\n",
    "        namedict[i] = int(out_name.split(\"_\")[-1][:-4])+1\n",
    "        continue\n",
    "    namedict[i] += 1\n",
    "    dest = f\"./datasets/meld/{out_name}\"\n",
    "    cmd = f\"ffmpeg -i {file} -vn -acodec pcm_s16le -ar 44100 -ac 2 {dest}\"\n",
    "    process = subprocess.Popen(cmd.split(), stdout=subprocess.PIPE)\n",
    "    output, error = process.communicate()\n",
    "    # print(file, file_name, out_name, dest)"
   ]
  },
  {
   "cell_type": "code",
   "execution_count": null,
   "metadata": {},
   "outputs": [],
   "source": [
    "for file in glob.glob(\"./datasets/meld/*.wav\"):\n",
    "    file_name = os.path.basename(file)\n",
    "    print(file_name)\n",
    "    i = file_name[:-4].split(\"_\")\n",
    "    # print(i, j, k)\n",
    "    out_name = f\"{i[0]}_{i[-1]}.wav\"\n",
    "    dest = f\"./datasets/meld/{out_name}\"\n",
    "    cmd = f\"mv {file} {dest}\"\n",
    "    # print(file, dest)\n",
    "    process = subprocess.Popen(cmd.split(), stdout=subprocess.PIPE)\n",
    "    output, error = process.communicate()\n",
    "    # break\n",
    "    # print(file, file_name, out_name, dest)"
   ]
  }
 ],
 "metadata": {
  "interpreter": {
   "hash": "1f08c95e1dc81e82bda07ffde162a7d0c188a9c97ea4a66445a4d02b581bf4ef"
  },
  "kernelspec": {
   "display_name": "Python 3.9.7 ('base')",
   "language": "python",
   "name": "python3"
  },
  "language_info": {
   "codemirror_mode": {
    "name": "ipython",
    "version": 3
   },
   "file_extension": ".py",
   "mimetype": "text/x-python",
   "name": "python",
   "nbconvert_exporter": "python",
   "pygments_lexer": "ipython3",
   "version": "3.9.7"
  },
  "orig_nbformat": 4
 },
 "nbformat": 4,
 "nbformat_minor": 2
}
